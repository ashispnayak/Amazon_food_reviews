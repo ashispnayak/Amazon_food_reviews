{
 "cells": [
  {
   "cell_type": "code",
   "execution_count": 1,
   "metadata": {},
   "outputs": [],
   "source": [
    "%matplotlib inline\n",
    "import numpy as np\n",
    "import pandas as pd\n",
    "import matplotlib.pyplot as plt"
   ]
  },
  {
   "cell_type": "code",
   "execution_count": 2,
   "metadata": {},
   "outputs": [
    {
     "data": {
      "text/html": [
       "<div>\n",
       "<style scoped>\n",
       "    .dataframe tbody tr th:only-of-type {\n",
       "        vertical-align: middle;\n",
       "    }\n",
       "\n",
       "    .dataframe tbody tr th {\n",
       "        vertical-align: top;\n",
       "    }\n",
       "\n",
       "    .dataframe thead th {\n",
       "        text-align: right;\n",
       "    }\n",
       "</style>\n",
       "<table border=\"1\" class=\"dataframe\">\n",
       "  <thead>\n",
       "    <tr style=\"text-align: right;\">\n",
       "      <th></th>\n",
       "      <th>Id</th>\n",
       "      <th>ProductId</th>\n",
       "      <th>UserId</th>\n",
       "      <th>ProfileName</th>\n",
       "      <th>HelpfulnessNumerator</th>\n",
       "      <th>HelpfulnessDenominator</th>\n",
       "      <th>Score</th>\n",
       "      <th>Time</th>\n",
       "      <th>Summary</th>\n",
       "      <th>Text</th>\n",
       "      <th>CleanedText</th>\n",
       "    </tr>\n",
       "  </thead>\n",
       "  <tbody>\n",
       "    <tr>\n",
       "      <th>0</th>\n",
       "      <td>1</td>\n",
       "      <td>B001E4KFG0</td>\n",
       "      <td>A3SGXH7AUHU8GW</td>\n",
       "      <td>delmartian</td>\n",
       "      <td>1</td>\n",
       "      <td>1</td>\n",
       "      <td>positive</td>\n",
       "      <td>1303862400</td>\n",
       "      <td>Good Quality Dog Food</td>\n",
       "      <td>I have bought several of the Vitality canned d...</td>\n",
       "      <td>b'bought sever vital can dog food product foun...</td>\n",
       "    </tr>\n",
       "    <tr>\n",
       "      <th>1</th>\n",
       "      <td>2</td>\n",
       "      <td>B00813GRG4</td>\n",
       "      <td>A1D87F6ZCVE5NK</td>\n",
       "      <td>dll pa</td>\n",
       "      <td>0</td>\n",
       "      <td>0</td>\n",
       "      <td>negative</td>\n",
       "      <td>1346976000</td>\n",
       "      <td>Not as Advertised</td>\n",
       "      <td>Product arrived labeled as Jumbo Salted Peanut...</td>\n",
       "      <td>b'product arriv label jumbo salt peanut peanut...</td>\n",
       "    </tr>\n",
       "    <tr>\n",
       "      <th>2</th>\n",
       "      <td>3</td>\n",
       "      <td>B000LQOCH0</td>\n",
       "      <td>ABXLMWJIXXAIN</td>\n",
       "      <td>Natalia Corres \"Natalia Corres\"</td>\n",
       "      <td>1</td>\n",
       "      <td>1</td>\n",
       "      <td>positive</td>\n",
       "      <td>1219017600</td>\n",
       "      <td>\"Delight\" says it all</td>\n",
       "      <td>This is a confection that has been around a fe...</td>\n",
       "      <td>b'confect around centuri light pillowi citrus ...</td>\n",
       "    </tr>\n",
       "    <tr>\n",
       "      <th>3</th>\n",
       "      <td>5</td>\n",
       "      <td>B006K2ZZ7K</td>\n",
       "      <td>A1UQRSCLF8GW1T</td>\n",
       "      <td>Michael D. Bigham \"M. Wassir\"</td>\n",
       "      <td>0</td>\n",
       "      <td>0</td>\n",
       "      <td>positive</td>\n",
       "      <td>1350777600</td>\n",
       "      <td>Great taffy</td>\n",
       "      <td>Great taffy at a great price.  There was a wid...</td>\n",
       "      <td>b'great taffi great price wide assort yummi ta...</td>\n",
       "    </tr>\n",
       "    <tr>\n",
       "      <th>4</th>\n",
       "      <td>6</td>\n",
       "      <td>B006K2ZZ7K</td>\n",
       "      <td>ADT0SRK1MGOEU</td>\n",
       "      <td>Twoapennything</td>\n",
       "      <td>0</td>\n",
       "      <td>0</td>\n",
       "      <td>positive</td>\n",
       "      <td>1342051200</td>\n",
       "      <td>Nice Taffy</td>\n",
       "      <td>I got a wild hair for taffy and ordered this f...</td>\n",
       "      <td>b'got wild hair taffi order five pound bag taf...</td>\n",
       "    </tr>\n",
       "  </tbody>\n",
       "</table>\n",
       "</div>"
      ],
      "text/plain": [
       "   Id   ProductId          UserId                      ProfileName  \\\n",
       "0   1  B001E4KFG0  A3SGXH7AUHU8GW                       delmartian   \n",
       "1   2  B00813GRG4  A1D87F6ZCVE5NK                           dll pa   \n",
       "2   3  B000LQOCH0   ABXLMWJIXXAIN  Natalia Corres \"Natalia Corres\"   \n",
       "3   5  B006K2ZZ7K  A1UQRSCLF8GW1T    Michael D. Bigham \"M. Wassir\"   \n",
       "4   6  B006K2ZZ7K   ADT0SRK1MGOEU                   Twoapennything   \n",
       "\n",
       "   HelpfulnessNumerator  HelpfulnessDenominator     Score        Time  \\\n",
       "0                     1                       1  positive  1303862400   \n",
       "1                     0                       0  negative  1346976000   \n",
       "2                     1                       1  positive  1219017600   \n",
       "3                     0                       0  positive  1350777600   \n",
       "4                     0                       0  positive  1342051200   \n",
       "\n",
       "                 Summary                                               Text  \\\n",
       "0  Good Quality Dog Food  I have bought several of the Vitality canned d...   \n",
       "1      Not as Advertised  Product arrived labeled as Jumbo Salted Peanut...   \n",
       "2  \"Delight\" says it all  This is a confection that has been around a fe...   \n",
       "3            Great taffy  Great taffy at a great price.  There was a wid...   \n",
       "4             Nice Taffy  I got a wild hair for taffy and ordered this f...   \n",
       "\n",
       "                                         CleanedText  \n",
       "0  b'bought sever vital can dog food product foun...  \n",
       "1  b'product arriv label jumbo salt peanut peanut...  \n",
       "2  b'confect around centuri light pillowi citrus ...  \n",
       "3  b'great taffi great price wide assort yummi ta...  \n",
       "4  b'got wild hair taffi order five pound bag taf...  "
      ]
     },
     "execution_count": 2,
     "metadata": {},
     "output_type": "execute_result"
    }
   ],
   "source": [
    "#Loading the pre-processed data\n",
    "amazon_data = pd.read_csv('final_data.csv')\n",
    "amazon_data.head()"
   ]
  },
  {
   "cell_type": "markdown",
   "metadata": {},
   "source": [
    "### Sorting the data based on timestamps"
   ]
  },
  {
   "cell_type": "code",
   "execution_count": 3,
   "metadata": {},
   "outputs": [
    {
     "data": {
      "text/html": [
       "<div>\n",
       "<style scoped>\n",
       "    .dataframe tbody tr th:only-of-type {\n",
       "        vertical-align: middle;\n",
       "    }\n",
       "\n",
       "    .dataframe tbody tr th {\n",
       "        vertical-align: top;\n",
       "    }\n",
       "\n",
       "    .dataframe thead th {\n",
       "        text-align: right;\n",
       "    }\n",
       "</style>\n",
       "<table border=\"1\" class=\"dataframe\">\n",
       "  <thead>\n",
       "    <tr style=\"text-align: right;\">\n",
       "      <th></th>\n",
       "      <th>Id</th>\n",
       "      <th>ProductId</th>\n",
       "      <th>UserId</th>\n",
       "      <th>ProfileName</th>\n",
       "      <th>HelpfulnessNumerator</th>\n",
       "      <th>HelpfulnessDenominator</th>\n",
       "      <th>Score</th>\n",
       "      <th>Time</th>\n",
       "      <th>Summary</th>\n",
       "      <th>Text</th>\n",
       "      <th>CleanedText</th>\n",
       "    </tr>\n",
       "  </thead>\n",
       "  <tbody>\n",
       "    <tr>\n",
       "      <th>0</th>\n",
       "      <td>451856</td>\n",
       "      <td>B00004CXX9</td>\n",
       "      <td>AIUWLEQ1ADEG5</td>\n",
       "      <td>Elizabeth Medina</td>\n",
       "      <td>0</td>\n",
       "      <td>0</td>\n",
       "      <td>positive</td>\n",
       "      <td>944092800</td>\n",
       "      <td>Entertainingl Funny!</td>\n",
       "      <td>Beetlejuice is a well written movie ..... ever...</td>\n",
       "      <td>b'beetlejuic well written movi everyth act spe...</td>\n",
       "    </tr>\n",
       "    <tr>\n",
       "      <th>1</th>\n",
       "      <td>374359</td>\n",
       "      <td>B00004CI84</td>\n",
       "      <td>A344SMIA5JECGM</td>\n",
       "      <td>Vincent P. Ross</td>\n",
       "      <td>1</td>\n",
       "      <td>2</td>\n",
       "      <td>positive</td>\n",
       "      <td>944438400</td>\n",
       "      <td>A modern day fairy tale</td>\n",
       "      <td>A twist of rumplestiskin captured on film, sta...</td>\n",
       "      <td>b'twist rumplestiskin captur film star michael...</td>\n",
       "    </tr>\n",
       "    <tr>\n",
       "      <th>2</th>\n",
       "      <td>451855</td>\n",
       "      <td>B00004CXX9</td>\n",
       "      <td>AJH6LUC1UT1ON</td>\n",
       "      <td>The Phantom of the Opera</td>\n",
       "      <td>0</td>\n",
       "      <td>0</td>\n",
       "      <td>positive</td>\n",
       "      <td>946857600</td>\n",
       "      <td>FANTASTIC!</td>\n",
       "      <td>Beetlejuice is an excellent and funny movie. K...</td>\n",
       "      <td>b'beetlejuic excel funni movi keaton hilari wa...</td>\n",
       "    </tr>\n",
       "    <tr>\n",
       "      <th>3</th>\n",
       "      <td>374422</td>\n",
       "      <td>B00004CI84</td>\n",
       "      <td>A1048CYU0OV4O8</td>\n",
       "      <td>Judy L. Eans</td>\n",
       "      <td>2</td>\n",
       "      <td>2</td>\n",
       "      <td>positive</td>\n",
       "      <td>947376000</td>\n",
       "      <td>GREAT</td>\n",
       "      <td>THIS IS ONE MOVIE THAT SHOULD BE IN YOUR MOVIE...</td>\n",
       "      <td>b'one movi movi collect fill comedi action wha...</td>\n",
       "    </tr>\n",
       "    <tr>\n",
       "      <th>4</th>\n",
       "      <td>374343</td>\n",
       "      <td>B00004CI84</td>\n",
       "      <td>A1B2IZU1JLZA6</td>\n",
       "      <td>Wes</td>\n",
       "      <td>19</td>\n",
       "      <td>23</td>\n",
       "      <td>negative</td>\n",
       "      <td>948240000</td>\n",
       "      <td>WARNING: CLAMSHELL EDITION IS EDITED TV VERSION</td>\n",
       "      <td>I, myself always enjoyed this movie, it's very...</td>\n",
       "      <td>b'alway enjoy movi funni entertain hesit pick ...</td>\n",
       "    </tr>\n",
       "  </tbody>\n",
       "</table>\n",
       "</div>"
      ],
      "text/plain": [
       "       Id   ProductId          UserId               ProfileName  \\\n",
       "0  451856  B00004CXX9   AIUWLEQ1ADEG5          Elizabeth Medina   \n",
       "1  374359  B00004CI84  A344SMIA5JECGM           Vincent P. Ross   \n",
       "2  451855  B00004CXX9   AJH6LUC1UT1ON  The Phantom of the Opera   \n",
       "3  374422  B00004CI84  A1048CYU0OV4O8              Judy L. Eans   \n",
       "4  374343  B00004CI84   A1B2IZU1JLZA6                       Wes   \n",
       "\n",
       "   HelpfulnessNumerator  HelpfulnessDenominator     Score       Time  \\\n",
       "0                     0                       0  positive  944092800   \n",
       "1                     1                       2  positive  944438400   \n",
       "2                     0                       0  positive  946857600   \n",
       "3                     2                       2  positive  947376000   \n",
       "4                    19                      23  negative  948240000   \n",
       "\n",
       "                                           Summary  \\\n",
       "0                             Entertainingl Funny!   \n",
       "1                          A modern day fairy tale   \n",
       "2                                       FANTASTIC!   \n",
       "3                                            GREAT   \n",
       "4  WARNING: CLAMSHELL EDITION IS EDITED TV VERSION   \n",
       "\n",
       "                                                Text  \\\n",
       "0  Beetlejuice is a well written movie ..... ever...   \n",
       "1  A twist of rumplestiskin captured on film, sta...   \n",
       "2  Beetlejuice is an excellent and funny movie. K...   \n",
       "3  THIS IS ONE MOVIE THAT SHOULD BE IN YOUR MOVIE...   \n",
       "4  I, myself always enjoyed this movie, it's very...   \n",
       "\n",
       "                                         CleanedText  \n",
       "0  b'beetlejuic well written movi everyth act spe...  \n",
       "1  b'twist rumplestiskin captur film star michael...  \n",
       "2  b'beetlejuic excel funni movi keaton hilari wa...  \n",
       "3  b'one movi movi collect fill comedi action wha...  \n",
       "4  b'alway enjoy movi funni entertain hesit pick ...  "
      ]
     },
     "execution_count": 3,
     "metadata": {},
     "output_type": "execute_result"
    }
   ],
   "source": [
    "balanced_sorted_data = amazon_data.sort_values(by='Time',kind='quicksort',ascending=True,inplace=False,axis=0).reset_index(drop=True)\n",
    "balanced_sorted_data.head()"
   ]
  },
  {
   "cell_type": "code",
   "execution_count": 4,
   "metadata": {},
   "outputs": [
    {
     "data": {
      "text/plain": [
       "(364132,)"
      ]
     },
     "execution_count": 4,
     "metadata": {},
     "output_type": "execute_result"
    }
   ],
   "source": [
    "#Getting the class labels\n",
    "balanced_data_score = balanced_sorted_data['Score']\n",
    "balanced_data_score.shape"
   ]
  },
  {
   "cell_type": "code",
   "execution_count": 5,
   "metadata": {},
   "outputs": [
    {
     "data": {
      "text/plain": [
       "(364132, 10)"
      ]
     },
     "execution_count": 5,
     "metadata": {},
     "output_type": "execute_result"
    }
   ],
   "source": [
    "#Dropping the score column from the main data\n",
    "balanced_sorted_data = balanced_sorted_data.drop(['Score'],axis=1)\n",
    "balanced_sorted_data.shape"
   ]
  },
  {
   "cell_type": "code",
   "execution_count": 6,
   "metadata": {},
   "outputs": [],
   "source": [
    "#Building the train and test data\n",
    "balanced_train_data = balanced_sorted_data.iloc[:140000]\n",
    "balanced_train_score = balanced_data_score[:140000]\n",
    "balanced_test_data = balanced_sorted_data.iloc[140000:200000]\n",
    "balanced_test_score = balanced_data_score[140000:200000]"
   ]
  },
  {
   "cell_type": "markdown",
   "metadata": {},
   "source": [
    "# Word2Vec"
   ]
  },
  {
   "cell_type": "code",
   "execution_count": 7,
   "metadata": {},
   "outputs": [],
   "source": [
    "import re\n",
    "#Cleaning the html tags\n",
    "def cleanHtml(sentence):\n",
    "    cleanText = re.sub('<.*?>','',sentence)\n",
    "    return cleanText\n",
    "#Removing Punctuations\n",
    "def cleanPunc(word):\n",
    "    cleaned = re.sub(r'[#|!|?|\\'|@|\"]','',word)\n",
    "    cleaned = re.sub(r'[,|.|(|)|\\|/]',' ',word)\n",
    "    return cleaned"
   ]
  },
  {
   "cell_type": "code",
   "execution_count": 8,
   "metadata": {},
   "outputs": [],
   "source": [
    "train_test_data = balanced_sorted_data.iloc[:200000]"
   ]
  },
  {
   "cell_type": "code",
   "execution_count": 9,
   "metadata": {},
   "outputs": [
    {
     "name": "stderr",
     "output_type": "stream",
     "text": [
      "F:\\Anaconda\\lib\\site-packages\\gensim\\utils.py:1197: UserWarning: detected Windows; aliasing chunkize to chunkize_serial\n",
      "  warnings.warn(\"detected Windows; aliasing chunkize to chunkize_serial\")\n"
     ]
    }
   ],
   "source": [
    "#Filtering the sentences for using in word2vec\n",
    "from gensim.models import Word2Vec\n",
    "final_sentences = []\n",
    "for sentence in balanced_sorted_data.Text.values:    \n",
    "    sent = cleanHtml(sentence)       #Cleaning the html tags from the sentences\n",
    "    filtered_sentence = []           #The filtered sentences to be stored in this list\n",
    "    for word in sent.split():    #Looping through each word\n",
    "        for cleaned_word in cleanPunc(word).split():   #Cleaning the punctuations from each word\n",
    "            if(cleaned_word.isalpha()):              \n",
    "                filtered_sentence.append(cleaned_word.lower())   #Converting the cleaned word to lowercase\n",
    "            else:\n",
    "                continue\n",
    "    final_sentences.append(filtered_sentence)      #Inserting each filtered sentence to the final list"
   ]
  },
  {
   "cell_type": "code",
   "execution_count": 10,
   "metadata": {},
   "outputs": [
    {
     "data": {
      "text/plain": [
       "364132"
      ]
     },
     "execution_count": 10,
     "metadata": {},
     "output_type": "execute_result"
    }
   ],
   "source": [
    "len(final_sentences)"
   ]
  },
  {
   "cell_type": "code",
   "execution_count": 11,
   "metadata": {},
   "outputs": [],
   "source": [
    "#Training the Word2Vec model\n",
    "training_sentences = final_sentences[:140000]\n",
    "w2v_model = Word2Vec(training_sentences,workers=4,size=50)"
   ]
  },
  {
   "cell_type": "code",
   "execution_count": 12,
   "metadata": {},
   "outputs": [
    {
     "data": {
      "text/plain": [
       "21260"
      ]
     },
     "execution_count": 12,
     "metadata": {},
     "output_type": "execute_result"
    }
   ],
   "source": [
    "words = set(w2v_model.wv.vocab)\n",
    "len(words)"
   ]
  },
  {
   "cell_type": "markdown",
   "metadata": {},
   "source": [
    "# Average Word2Vec"
   ]
  },
  {
   "cell_type": "code",
   "execution_count": 13,
   "metadata": {},
   "outputs": [
    {
     "name": "stderr",
     "output_type": "stream",
     "text": [
      "F:\\Anaconda\\lib\\site-packages\\ipykernel_launcher.py:13: RuntimeWarning: invalid value encountered in true_divide\n",
      "  del sys.path[0]\n"
     ]
    }
   ],
   "source": [
    "#Building model for average word2vec\n",
    "sent_vectors = []\n",
    "for sentence in final_sentences:    \n",
    "    sentence_vectors = np.zeros(50)    #Building word vectors and initializing with 0\n",
    "    count = 0   #Counting the total number of words in the sentence\n",
    "    for word in sentence:\n",
    "        try:\n",
    "            count+=1           \n",
    "            w2v = w2v_model.wv[word]    #Appling word2vec for each word\n",
    "            sentence_vectors+=w2v        #Adding word2vec of each word to sentence vectors\n",
    "        except:\n",
    "            pass\n",
    "    sentence_vectors/=count            #Computing average word2vec\n",
    "    sent_vectors.append(sentence_vectors)"
   ]
  },
  {
   "cell_type": "code",
   "execution_count": 14,
   "metadata": {},
   "outputs": [
    {
     "data": {
      "text/plain": [
       "(364132, 50)"
      ]
     },
     "execution_count": 14,
     "metadata": {},
     "output_type": "execute_result"
    }
   ],
   "source": [
    "sent_vectors_df = pd.DataFrame(sent_vectors)\n",
    "sent_vectors_df.shape"
   ]
  },
  {
   "cell_type": "code",
   "execution_count": 15,
   "metadata": {},
   "outputs": [
    {
     "name": "stdout",
     "output_type": "stream",
     "text": [
      "(140000, 50)\n"
     ]
    },
    {
     "data": {
      "text/plain": [
       "(60000, 50)"
      ]
     },
     "execution_count": 15,
     "metadata": {},
     "output_type": "execute_result"
    }
   ],
   "source": [
    "#Building 70% train and 30% test data\n",
    "avgw2v_train_data = sent_vectors_df.iloc[:140000]\n",
    "avgw2v_test_data = sent_vectors_df.iloc[140000:200000]\n",
    "print(avgw2v_train_data.shape)\n",
    "avgw2v_test_data.shape"
   ]
  },
  {
   "cell_type": "markdown",
   "metadata": {},
   "source": [
    "### 1. Applying GridSearchCV to find the best max_depth"
   ]
  },
  {
   "cell_type": "code",
   "execution_count": 16,
   "metadata": {},
   "outputs": [],
   "source": [
    "from sklearn.tree import DecisionTreeClassifier\n",
    "from sklearn.model_selection import GridSearchCV\n",
    "grid_params_avgw2v = {'max_depth':[i for i in range(1,10)]}\n",
    "grid_estimator_avgw2v = DecisionTreeClassifier(min_samples_split=100,min_samples_leaf=30)\n",
    "grid_clf_avgw2v = GridSearchCV(grid_estimator_avgw2v,grid_params_avgw2v,scoring='accuracy')"
   ]
  },
  {
   "cell_type": "code",
   "execution_count": 17,
   "metadata": {},
   "outputs": [
    {
     "data": {
      "text/plain": [
       "GridSearchCV(cv=None, error_score='raise',\n",
       "       estimator=DecisionTreeClassifier(class_weight=None, criterion='gini', max_depth=None,\n",
       "            max_features=None, max_leaf_nodes=None,\n",
       "            min_impurity_decrease=0.0, min_impurity_split=None,\n",
       "            min_samples_leaf=30, min_samples_split=100,\n",
       "            min_weight_fraction_leaf=0.0, presort=False, random_state=None,\n",
       "            splitter='best'),\n",
       "       fit_params=None, iid=True, n_jobs=1,\n",
       "       param_grid={'max_depth': [1, 2, 3, 4, 5, 6, 7, 8, 9]},\n",
       "       pre_dispatch='2*n_jobs', refit=True, return_train_score='warn',\n",
       "       scoring='accuracy', verbose=0)"
      ]
     },
     "execution_count": 17,
     "metadata": {},
     "output_type": "execute_result"
    }
   ],
   "source": [
    "grid_clf_avgw2v.fit(avgw2v_train_data,balanced_train_score)"
   ]
  },
  {
   "cell_type": "code",
   "execution_count": 19,
   "metadata": {},
   "outputs": [
    {
     "data": {
      "text/plain": [
       "{'max_depth': 6}"
      ]
     },
     "execution_count": 19,
     "metadata": {},
     "output_type": "execute_result"
    }
   ],
   "source": [
    "grid_clf_avgw2v.best_params_"
   ]
  },
  {
   "cell_type": "markdown",
   "metadata": {},
   "source": [
    "### 2. Finding the error graph with various max_depth"
   ]
  },
  {
   "cell_type": "code",
   "execution_count": 20,
   "metadata": {},
   "outputs": [
    {
     "data": {
      "text/plain": [
       "array([0.13434286, 0.13434286, 0.13434286, 0.13372143, 0.1316    ,\n",
       "       0.12902143, 0.1293    , 0.12965   , 0.13210714])"
      ]
     },
     "execution_count": 20,
     "metadata": {},
     "output_type": "execute_result"
    }
   ],
   "source": [
    "test_score_avgw2v = grid_clf_avgw2v.cv_results_['mean_test_score']\n",
    "MSE = 1-test_score_avgw2v\n",
    "MSE"
   ]
  },
  {
   "cell_type": "code",
   "execution_count": 21,
   "metadata": {},
   "outputs": [
    {
     "data": {
      "text/plain": [
       "[1, 2, 3, 4, 5, 6, 7, 8, 9]"
      ]
     },
     "execution_count": 21,
     "metadata": {},
     "output_type": "execute_result"
    }
   ],
   "source": [
    "grid_params_avgw2v['max_depth']"
   ]
  },
  {
   "cell_type": "code",
   "execution_count": 22,
   "metadata": {},
   "outputs": [
    {
     "data": {
      "image/png": "[encoded data removed]",
      "text/plain": [
       "<Figure size 432x288 with 1 Axes>"
      ]
     },
     "metadata": {},
     "output_type": "display_data"
    }
   ],
   "source": [
    "#Plotting thr error graph\n",
    "plt.scatter(grid_params_avgw2v['max_depth'],MSE)\n",
    "plt.xlabel('Different Max Depths')\n",
    "plt.ylabel('MSE')\n",
    "plt.title('Error Plot for Average Word2Vec')\n",
    "plt.show()"
   ]
  },
  {
   "cell_type": "markdown",
   "metadata": {},
   "source": [
    "### 3. Finding the accuracy with train and test data"
   ]
  },
  {
   "cell_type": "code",
   "execution_count": 23,
   "metadata": {},
   "outputs": [
    {
     "name": "stdout",
     "output_type": "stream",
     "text": [
      "The accuracy of avgw2v model on test data is ---> 84.80499999999999\n"
     ]
    }
   ],
   "source": [
    "#Finding the accuracy for test data\n",
    "from sklearn.metrics import accuracy_score\n",
    "avgw2v_dt_model = grid_clf_avgw2v.best_estimator_\n",
    "avgw2v_test_labels = avgw2v_dt_model.predict(avgw2v_test_data)\n",
    "avgw2v_test_score = accuracy_score(balanced_test_score,avgw2v_test_labels)*float(100)\n",
    "print(\"The accuracy of avgw2v model on test data is ---> \"+str(avgw2v_test_score))"
   ]
  },
  {
   "cell_type": "code",
   "execution_count": 25,
   "metadata": {},
   "outputs": [
    {
     "name": "stdout",
     "output_type": "stream",
     "text": [
      "The accuracy of avgw2v model on train data is ---> 87.35285714285715\n"
     ]
    }
   ],
   "source": [
    "#Finding the accuracy with train data\n",
    "avgw2v_train_labels = avgw2v_dt_model.predict(avgw2v_train_data)\n",
    "avgw2v_train_score = accuracy_score(balanced_train_score,avgw2v_train_labels)*float(100)\n",
    "print(\"The accuracy of avgw2v model on train data is ---> \"+str(avgw2v_train_score))"
   ]
  },
  {
   "cell_type": "code",
   "execution_count": 27,
   "metadata": {},
   "outputs": [
    {
     "data": {
      "image/png": "[encoded data removed]",
      "text/plain": [
       "<Figure size 432x288 with 2 Axes>"
      ]
     },
     "metadata": {},
     "output_type": "display_data"
    }
   ],
   "source": [
    "#Building the confusion matrix\n",
    "import seaborn as sns\n",
    "from sklearn.metrics import confusion_matrix\n",
    "avgw2v_cnf = confusion_matrix(balanced_test_score,avgw2v_test_labels)\n",
    "sns.heatmap(avgw2v_cnf,fmt='.1f',annot=True,cmap=plt.cm.gray)\n",
    "plt.xlabel('Predicted Values')\n",
    "plt.ylabel('Actual Values')\n",
    "plt.title('Confusion Matrix for Avgw2v model')\n",
    "plt.show()"
   ]
  },
  {
   "cell_type": "code",
   "execution_count": 28,
   "metadata": {},
   "outputs": [
    {
     "name": "stdout",
     "output_type": "stream",
     "text": [
      "The TNR for Average Word2Vec is 1964\n",
      "The FPR for Average Word2Vec is 7686\n",
      "The FNR for Average Word2Vec is 1431\n",
      "The TPR for Average Word2Vec is 48919\n"
     ]
    }
   ],
   "source": [
    "#Finding the tnr,tpr,fnr,fpr\n",
    "tnr_avgw2v = avgw2v_cnf[0,0]\n",
    "fpr_avgw2v = avgw2v_cnf[0,1]\n",
    "fnr_avgw2v = avgw2v_cnf[1,0]\n",
    "tpr_avgw2v = avgw2v_cnf[1,1]\n",
    "print(\"The TNR for Average Word2Vec is \"+str(tnr_avgw2v))\n",
    "print('The FPR for Average Word2Vec is '+str(fpr_avgw2v))\n",
    "print(\"The FNR for Average Word2Vec is \"+str(fnr_avgw2v))\n",
    "print(\"The TPR for Average Word2Vec is \"+str(tpr_avgw2v))"
   ]
  },
  {
   "cell_type": "code",
   "execution_count": 29,
   "metadata": {},
   "outputs": [
    {
     "name": "stdout",
     "output_type": "stream",
     "text": [
      "The precision for Average Word2Vec model is 0.8642169419662574\n",
      "The recall for Average Word2Vec model is 0.9715789473684211\n"
     ]
    }
   ],
   "source": [
    "#Finding the precision and recall\n",
    "precision_avgw2v = tpr_avgw2v/(tpr_avgw2v+fpr_avgw2v)\n",
    "recall_avgw2v = tpr_avgw2v/(tpr_avgw2v+fnr_avgw2v)\n",
    "print('The precision for Average Word2Vec model is '+str(precision_avgw2v))\n",
    "print('The recall for Average Word2Vec model is '+str(recall_avgw2v))"
   ]
  },
  {
   "cell_type": "code",
   "execution_count": 31,
   "metadata": {},
   "outputs": [
    {
     "name": "stdout",
     "output_type": "stream",
     "text": [
      "The F1 Score for Average Word2Vec model is 0.9147585433126082\n"
     ]
    }
   ],
   "source": [
    "#Finding the F1 Score\n",
    "f1_avgw2v = 2*(precision_avgw2v*recall_avgw2v)/(precision_avgw2v+recall_avgw2v)\n",
    "print('The F1 Score for Average Word2Vec model is '+str(f1_avgw2v))"
   ]
  },
  {
   "cell_type": "markdown",
   "metadata": {},
   "source": [
    "# TFIDF Weighted Word2Vec"
   ]
  },
  {
   "cell_type": "code",
   "execution_count": 32,
   "metadata": {},
   "outputs": [],
   "source": [
    "#Taking 10k data points\n",
    "train_data = balanced_sorted_data.iloc[:7000]\n",
    "train_test_data = balanced_sorted_data.iloc[:10000]\n",
    "fin_sentences = final_sentences[:10000]"
   ]
  },
  {
   "cell_type": "code",
   "execution_count": 33,
   "metadata": {},
   "outputs": [],
   "source": [
    "train_data_score = balanced_train_score[:7000]\n",
    "test_data_score = balanced_test_score[7000:10000]"
   ]
  },
  {
   "cell_type": "code",
   "execution_count": 34,
   "metadata": {},
   "outputs": [
    {
     "data": {
      "text/plain": [
       "(10000, 19569)"
      ]
     },
     "execution_count": 34,
     "metadata": {},
     "output_type": "execute_result"
    }
   ],
   "source": [
    "from sklearn.feature_extraction.text import TfidfVectorizer\n",
    "tf_idf_model = TfidfVectorizer()\n",
    "tf_idf_model.fit(train_data.Text.values)\n",
    "tf_idf_model_final = tf_idf_model.transform(train_test_data.Text.values)\n",
    "tf_idf_model_final.shape"
   ]
  },
  {
   "cell_type": "code",
   "execution_count": 35,
   "metadata": {},
   "outputs": [],
   "source": [
    "#Building the Weighted TFIDF W2V\n",
    "tf_features = tf_idf_model.get_feature_names()    #Retrieving the tfidf feature names\n",
    "weighted_sentences = [];\n",
    "row = 0;\n",
    "for sentence in fin_sentences:\n",
    "    sum_vector = np.zeros(50)     #Building word vectors and initializing with 0\n",
    "    weighted_sum = 0;             #Initializing the weighted sum to 0\n",
    "    for word in sentence:         #Looping through each word\n",
    "        try: \n",
    "            w2v = w2v_model.wv[word]         #Applying the word2vec model on each word\n",
    "            tf_idf = tf_idf_model_final[row,tf_features.index(word)]      #Retrieving the tfidf value for the corresponding word\n",
    "            sum_vector += (w2v*tf_idf)          #Computing tfidf weighted w2v\n",
    "            weighted_sum += tf_idf              #Computing the total tfidf weight\n",
    "        except:\n",
    "            pass\n",
    "    sum_vector/=weighted_sum              #Final tfidf weighted w2v\n",
    "    weighted_sentences.append(sum_vector)\n",
    "    row += 1 "
   ]
  },
  {
   "cell_type": "code",
   "execution_count": 36,
   "metadata": {},
   "outputs": [
    {
     "data": {
      "text/plain": [
       "(10000, 50)"
      ]
     },
     "execution_count": 36,
     "metadata": {},
     "output_type": "execute_result"
    }
   ],
   "source": [
    "#Converting the weighted sentences list to a DataFrame\n",
    "weighted_df = pd.DataFrame(weighted_sentences) \n",
    "weighted_df.shape"
   ]
  },
  {
   "cell_type": "code",
   "execution_count": 37,
   "metadata": {},
   "outputs": [
    {
     "name": "stdout",
     "output_type": "stream",
     "text": [
      "(7000, 50)\n"
     ]
    },
    {
     "data": {
      "text/plain": [
       "(3000, 50)"
      ]
     },
     "execution_count": 37,
     "metadata": {},
     "output_type": "execute_result"
    }
   ],
   "source": [
    "#Building 70% and 30% train-test data set\n",
    "tfidfw2v_train_data = weighted_df.iloc[0:7000,:]\n",
    "tfidfw2v_test_data = weighted_df.iloc[7000:10000]\n",
    "print(tfidfw2v_train_data.shape)\n",
    "tfidfw2v_test_data.shape"
   ]
  },
  {
   "cell_type": "markdown",
   "metadata": {},
   "source": [
    "### 1. Using GridSearchCV to find best max_depth"
   ]
  },
  {
   "cell_type": "code",
   "execution_count": 38,
   "metadata": {},
   "outputs": [],
   "source": [
    "#Using GridSearchCV to find the best max_depth\n",
    "grid_params_tfidfw2v = {'max_depth':[i for i in range(1,10)]}\n",
    "grid_estimator_tfidfw2v = DecisionTreeClassifier(min_samples_split=100,min_samples_leaf=30)\n",
    "grid_clf_tfidfw2v = GridSearchCV(grid_estimator_tfidfw2v,grid_params_tfidfw2v,scoring='accuracy')"
   ]
  },
  {
   "cell_type": "code",
   "execution_count": 39,
   "metadata": {},
   "outputs": [
    {
     "data": {
      "text/plain": [
       "GridSearchCV(cv=None, error_score='raise',\n",
       "       estimator=DecisionTreeClassifier(class_weight=None, criterion='gini', max_depth=None,\n",
       "            max_features=None, max_leaf_nodes=None,\n",
       "            min_impurity_decrease=0.0, min_impurity_split=None,\n",
       "            min_samples_leaf=30, min_samples_split=100,\n",
       "            min_weight_fraction_leaf=0.0, presort=False, random_state=None,\n",
       "            splitter='best'),\n",
       "       fit_params=None, iid=True, n_jobs=1,\n",
       "       param_grid={'max_depth': [1, 2, 3, 4, 5, 6, 7, 8, 9]},\n",
       "       pre_dispatch='2*n_jobs', refit=True, return_train_score='warn',\n",
       "       scoring='accuracy', verbose=0)"
      ]
     },
     "execution_count": 39,
     "metadata": {},
     "output_type": "execute_result"
    }
   ],
   "source": [
    "grid_clf_tfidfw2v.fit(tfidfw2v_train_data,train_data_score)"
   ]
  },
  {
   "cell_type": "code",
   "execution_count": 40,
   "metadata": {},
   "outputs": [
    {
     "data": {
      "text/plain": [
       "{'max_depth': 8}"
      ]
     },
     "execution_count": 40,
     "metadata": {},
     "output_type": "execute_result"
    }
   ],
   "source": [
    "grid_clf_tfidfw2v.best_params_"
   ]
  },
  {
   "cell_type": "markdown",
   "metadata": {},
   "source": [
    "### 2. Plotting the error graph with various max_depths"
   ]
  },
  {
   "cell_type": "code",
   "execution_count": 42,
   "metadata": {},
   "outputs": [
    {
     "data": {
      "text/plain": [
       "array([0.11585714, 0.11728571, 0.12157143, 0.11814286, 0.11628571,\n",
       "       0.11585714, 0.11585714, 0.11557143, 0.11557143])"
      ]
     },
     "execution_count": 42,
     "metadata": {},
     "output_type": "execute_result"
    }
   ],
   "source": [
    "mean_test_score_tfidfw2v = grid_clf_tfidfw2v.cv_results_['mean_test_score']\n",
    "MSE = 1-mean_test_score_tfidfw2v\n",
    "MSE"
   ]
  },
  {
   "cell_type": "code",
   "execution_count": 44,
   "metadata": {},
   "outputs": [
    {
     "data": {
      "image/png": "[encoded data removed]",
      "text/plain": [
       "<Figure size 432x288 with 1 Axes>"
      ]
     },
     "metadata": {},
     "output_type": "display_data"
    }
   ],
   "source": [
    "#Plotting the error graph\n",
    "plt.scatter(grid_params_tfidfw2v['max_depth'],MSE)\n",
    "plt.xlabel('Different Max Depths')\n",
    "plt.ylabel('MSE')\n",
    "plt.title('Error Graph for TFIDF Word2Vec')\n",
    "plt.show()"
   ]
  },
  {
   "cell_type": "markdown",
   "metadata": {},
   "source": [
    "### 3. Finding the accuracy with train and test data"
   ]
  },
  {
   "cell_type": "code",
   "execution_count": 45,
   "metadata": {},
   "outputs": [
    {
     "name": "stdout",
     "output_type": "stream",
     "text": [
      "The accuracy of TFIDF Word2Vec model with test data is---> 80.26666666666667\n"
     ]
    }
   ],
   "source": [
    "tfidfw2v_dt_model = grid_clf_tfidfw2v.best_estimator_\n",
    "tfidfw2v_test_label = tfidfw2v_dt_model.predict(tfidfw2v_test_data)\n",
    "tfidfw2v_test_score = accuracy_score(tfidfw2v_test_label,test_data_score)*float(100)\n",
    "print('The accuracy of TFIDF Word2Vec model with test data is---> '+str(tfidfw2v_test_score))"
   ]
  },
  {
   "cell_type": "code",
   "execution_count": 46,
   "metadata": {},
   "outputs": [
    {
     "name": "stdout",
     "output_type": "stream",
     "text": [
      "The accuracy of TFIDF Word2Vec model with train data is---> 89.4857142857143\n"
     ]
    }
   ],
   "source": [
    "#Finding accuracy for train data\n",
    "tfidfw2v_train_label = tfidfw2v_dt_model.predict(tfidfw2v_train_data)\n",
    "tfidfw2v_train_score = accuracy_score(tfidfw2v_train_label,train_data_score)*float(100)\n",
    "print('The accuracy of TFIDF Word2Vec model with train data is---> '+str(tfidfw2v_train_score))"
   ]
  },
  {
   "cell_type": "code",
   "execution_count": 48,
   "metadata": {},
   "outputs": [
    {
     "data": {
      "image/png": "[encoded data removed]",
      "text/plain": [
       "<Figure size 432x288 with 2 Axes>"
      ]
     },
     "metadata": {},
     "output_type": "display_data"
    }
   ],
   "source": [
    "#Building the confusion matrix\n",
    "tfidfw2v_cnf = confusion_matrix(tfidfw2v_test_label,test_data_score)\n",
    "sns.heatmap(tfidfw2v_cnf,annot=True,fmt='.1f',cmap=plt.cm.gray)\n",
    "plt.xlabel('Predicted Values')\n",
    "plt.ylabel('Actual Values')\n",
    "plt.title('Confusion Matrix for TFIDF Word2Vec')\n",
    "plt.show()"
   ]
  },
  {
   "cell_type": "code",
   "execution_count": 49,
   "metadata": {},
   "outputs": [
    {
     "name": "stdout",
     "output_type": "stream",
     "text": [
      "The TNR for Average Word2Vec is 38\n",
      "The FPR for Average Word2Vec is 158\n",
      "The FNR for Average Word2Vec is 434\n",
      "The TPR for Average Word2Vec is 2370\n"
     ]
    }
   ],
   "source": [
    "#Finding the tnr,fnr,fpr,tpr\n",
    "tnr_tfidfw2v = tfidfw2v_cnf[0,0]\n",
    "fpr_tfidfw2v = tfidfw2v_cnf[0,1]\n",
    "fnr_tfidfw2v = tfidfw2v_cnf[1,0]\n",
    "tpr_tfidfw2v = tfidfw2v_cnf[1,1]\n",
    "print(\"The TNR for Average Word2Vec is \"+str(tnr_tfidfw2v))\n",
    "print('The FPR for Average Word2Vec is '+str(fpr_tfidfw2v))\n",
    "print(\"The FNR for Average Word2Vec is \"+str(fnr_tfidfw2v))\n",
    "print(\"The TPR for Average Word2Vec is \"+str(tpr_tfidfw2v))"
   ]
  },
  {
   "cell_type": "code",
   "execution_count": 50,
   "metadata": {},
   "outputs": [
    {
     "name": "stdout",
     "output_type": "stream",
     "text": [
      "The Precision with TFIDF Word2Vec is ---> 0.9375\n",
      "The Recall with TFIDF Word2Vec is ---> 0.8452211126961484\n"
     ]
    }
   ],
   "source": [
    "#Finding the precision and recall\n",
    "precision_tfidfw2v = tpr_tfidfw2v/(tpr_tfidfw2v+fpr_tfidfw2v)\n",
    "recall_tfidfw2v = tpr_tfidfw2v/(tpr_tfidfw2v+fnr_tfidfw2v)\n",
    "print('The Precision with TFIDF Word2Vec is ---> '+str(precision_tfidfw2v))\n",
    "print('The Recall with TFIDF Word2Vec is ---> '+str(recall_tfidfw2v))"
   ]
  },
  {
   "cell_type": "code",
   "execution_count": 51,
   "metadata": {},
   "outputs": [
    {
     "name": "stdout",
     "output_type": "stream",
     "text": [
      "The F1 Score with TFIDF Word2Vec is --- > 0.8889722430607653\n"
     ]
    }
   ],
   "source": [
    "#Finding the F1 Score\n",
    "f1_tfidfw2v = (2*precision_tfidfw2v*recall_tfidfw2v)/(precision_tfidfw2v+recall_tfidfw2v)\n",
    "print('The F1 Score with TFIDF Word2Vec is --- > '+str(f1_tfidfw2v))"
   ]
  },
  {
   "cell_type": "markdown",
   "metadata": {},
   "source": [
    "# Summary"
   ]
  },
  {
   "cell_type": "code",
   "execution_count": 53,
   "metadata": {},
   "outputs": [
    {
     "data": {
      "text/html": [
       "<div>\n",
       "<style scoped>\n",
       "    .dataframe tbody tr th:only-of-type {\n",
       "        vertical-align: middle;\n",
       "    }\n",
       "\n",
       "    .dataframe tbody tr th {\n",
       "        vertical-align: top;\n",
       "    }\n",
       "\n",
       "    .dataframe thead th {\n",
       "        text-align: right;\n",
       "    }\n",
       "</style>\n",
       "<table border=\"1\" class=\"dataframe\">\n",
       "  <thead>\n",
       "    <tr style=\"text-align: right;\">\n",
       "      <th></th>\n",
       "      <th>model</th>\n",
       "      <th>best max_depth</th>\n",
       "      <th>test accuracy</th>\n",
       "      <th>train_accuracy</th>\n",
       "    </tr>\n",
       "  </thead>\n",
       "  <tbody>\n",
       "    <tr>\n",
       "      <th>0</th>\n",
       "      <td>Average Word2Vec</td>\n",
       "      <td>6</td>\n",
       "      <td>84.80499999999999</td>\n",
       "      <td>87.35285714285715</td>\n",
       "    </tr>\n",
       "    <tr>\n",
       "      <th>1</th>\n",
       "      <td>TFIDF Weighted Word2Vec</td>\n",
       "      <td>8</td>\n",
       "      <td>80.26666666666667</td>\n",
       "      <td>89.4857142857143</td>\n",
       "    </tr>\n",
       "  </tbody>\n",
       "</table>\n",
       "</div>"
      ],
      "text/plain": [
       "                     model best max_depth      test accuracy  \\\n",
       "0         Average Word2Vec              6  84.80499999999999   \n",
       "1  TFIDF Weighted Word2Vec              8  80.26666666666667   \n",
       "\n",
       "      train_accuracy  \n",
       "0  87.35285714285715  \n",
       "1   89.4857142857143  "
      ]
     },
     "execution_count": 53,
     "metadata": {},
     "output_type": "execute_result"
    }
   ],
   "source": [
    "summary = {'model':['Average Word2Vec','TFIDF Weighted Word2Vec'],'best max_depth':[str(grid_clf_avgw2v.best_params_['max_depth']),str(grid_clf_tfidfw2v.best_params_['max_depth'])],'test accuracy':[str(avgw2v_test_score),str(tfidfw2v_test_score)],'train_accuracy':[str(avgw2v_train_score),str(tfidfw2v_train_score)]}\n",
    "summary_df = pd.DataFrame(summary)\n",
    "summary_df"
   ]
  },
  {
   "cell_type": "markdown",
   "metadata": {},
   "source": [
    "# Conclusion: Average Word2Vec model performed the best with Decision Trees"
   ]
  }
 ],
 "metadata": {
  "kernelspec": {
   "display_name": "Python 3",
   "language": "python",
   "name": "python3"
  },
  "language_info": {
   "codemirror_mode": {
    "name": "ipython",
    "version": 3
   },
   "file_extension": ".py",
   "mimetype": "text/x-python",
   "name": "python",
   "nbconvert_exporter": "python",
   "pygments_lexer": "ipython3",
   "version": "3.6.5"
  }
 },
 "nbformat": 4,
 "nbformat_minor": 2
}
