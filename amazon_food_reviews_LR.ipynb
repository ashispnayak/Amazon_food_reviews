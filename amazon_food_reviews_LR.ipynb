{
 "cells": [
  {
   "cell_type": "code",
   "execution_count": 1,
   "metadata": {},
   "outputs": [],
   "source": [
    "#Importing the required modules\n",
    "%matplotlib inline\n",
    "import pandas as pd\n",
    "import numpy as np\n",
    "import matplotlib.pyplot as plt"
   ]
  },
  {
   "cell_type": "code",
   "execution_count": 2,
   "metadata": {},
   "outputs": [
    {
     "data": {
      "text/html": [
       "<div>\n",
       "<style scoped>\n",
       "    .dataframe tbody tr th:only-of-type {\n",
       "        vertical-align: middle;\n",
       "    }\n",
       "\n",
       "    .dataframe tbody tr th {\n",
       "        vertical-align: top;\n",
       "    }\n",
       "\n",
       "    .dataframe thead th {\n",
       "        text-align: right;\n",
       "    }\n",
       "</style>\n",
       "<table border=\"1\" class=\"dataframe\">\n",
       "  <thead>\n",
       "    <tr style=\"text-align: right;\">\n",
       "      <th></th>\n",
       "      <th>Id</th>\n",
       "      <th>ProductId</th>\n",
       "      <th>UserId</th>\n",
       "      <th>ProfileName</th>\n",
       "      <th>HelpfulnessNumerator</th>\n",
       "      <th>HelpfulnessDenominator</th>\n",
       "      <th>Score</th>\n",
       "      <th>Time</th>\n",
       "      <th>Summary</th>\n",
       "      <th>Text</th>\n",
       "      <th>CleanedText</th>\n",
       "    </tr>\n",
       "  </thead>\n",
       "  <tbody>\n",
       "    <tr>\n",
       "      <th>0</th>\n",
       "      <td>1</td>\n",
       "      <td>B001E4KFG0</td>\n",
       "      <td>A3SGXH7AUHU8GW</td>\n",
       "      <td>delmartian</td>\n",
       "      <td>1</td>\n",
       "      <td>1</td>\n",
       "      <td>positive</td>\n",
       "      <td>1303862400</td>\n",
       "      <td>Good Quality Dog Food</td>\n",
       "      <td>I have bought several of the Vitality canned d...</td>\n",
       "      <td>b'bought sever vital can dog food product foun...</td>\n",
       "    </tr>\n",
       "    <tr>\n",
       "      <th>1</th>\n",
       "      <td>2</td>\n",
       "      <td>B00813GRG4</td>\n",
       "      <td>A1D87F6ZCVE5NK</td>\n",
       "      <td>dll pa</td>\n",
       "      <td>0</td>\n",
       "      <td>0</td>\n",
       "      <td>negative</td>\n",
       "      <td>1346976000</td>\n",
       "      <td>Not as Advertised</td>\n",
       "      <td>Product arrived labeled as Jumbo Salted Peanut...</td>\n",
       "      <td>b'product arriv label jumbo salt peanut peanut...</td>\n",
       "    </tr>\n",
       "    <tr>\n",
       "      <th>2</th>\n",
       "      <td>3</td>\n",
       "      <td>B000LQOCH0</td>\n",
       "      <td>ABXLMWJIXXAIN</td>\n",
       "      <td>Natalia Corres \"Natalia Corres\"</td>\n",
       "      <td>1</td>\n",
       "      <td>1</td>\n",
       "      <td>positive</td>\n",
       "      <td>1219017600</td>\n",
       "      <td>\"Delight\" says it all</td>\n",
       "      <td>This is a confection that has been around a fe...</td>\n",
       "      <td>b'confect around centuri light pillowi citrus ...</td>\n",
       "    </tr>\n",
       "    <tr>\n",
       "      <th>3</th>\n",
       "      <td>5</td>\n",
       "      <td>B006K2ZZ7K</td>\n",
       "      <td>A1UQRSCLF8GW1T</td>\n",
       "      <td>Michael D. Bigham \"M. Wassir\"</td>\n",
       "      <td>0</td>\n",
       "      <td>0</td>\n",
       "      <td>positive</td>\n",
       "      <td>1350777600</td>\n",
       "      <td>Great taffy</td>\n",
       "      <td>Great taffy at a great price.  There was a wid...</td>\n",
       "      <td>b'great taffi great price wide assort yummi ta...</td>\n",
       "    </tr>\n",
       "    <tr>\n",
       "      <th>4</th>\n",
       "      <td>6</td>\n",
       "      <td>B006K2ZZ7K</td>\n",
       "      <td>ADT0SRK1MGOEU</td>\n",
       "      <td>Twoapennything</td>\n",
       "      <td>0</td>\n",
       "      <td>0</td>\n",
       "      <td>positive</td>\n",
       "      <td>1342051200</td>\n",
       "      <td>Nice Taffy</td>\n",
       "      <td>I got a wild hair for taffy and ordered this f...</td>\n",
       "      <td>b'got wild hair taffi order five pound bag taf...</td>\n",
       "    </tr>\n",
       "  </tbody>\n",
       "</table>\n",
       "</div>"
      ],
      "text/plain": [
       "   Id   ProductId          UserId                      ProfileName  \\\n",
       "0   1  B001E4KFG0  A3SGXH7AUHU8GW                       delmartian   \n",
       "1   2  B00813GRG4  A1D87F6ZCVE5NK                           dll pa   \n",
       "2   3  B000LQOCH0   ABXLMWJIXXAIN  Natalia Corres \"Natalia Corres\"   \n",
       "3   5  B006K2ZZ7K  A1UQRSCLF8GW1T    Michael D. Bigham \"M. Wassir\"   \n",
       "4   6  B006K2ZZ7K   ADT0SRK1MGOEU                   Twoapennything   \n",
       "\n",
       "   HelpfulnessNumerator  HelpfulnessDenominator     Score        Time  \\\n",
       "0                     1                       1  positive  1303862400   \n",
       "1                     0                       0  negative  1346976000   \n",
       "2                     1                       1  positive  1219017600   \n",
       "3                     0                       0  positive  1350777600   \n",
       "4                     0                       0  positive  1342051200   \n",
       "\n",
       "                 Summary                                               Text  \\\n",
       "0  Good Quality Dog Food  I have bought several of the Vitality canned d...   \n",
       "1      Not as Advertised  Product arrived labeled as Jumbo Salted Peanut...   \n",
       "2  \"Delight\" says it all  This is a confection that has been around a fe...   \n",
       "3            Great taffy  Great taffy at a great price.  There was a wid...   \n",
       "4             Nice Taffy  I got a wild hair for taffy and ordered this f...   \n",
       "\n",
       "                                         CleanedText  \n",
       "0  b'bought sever vital can dog food product foun...  \n",
       "1  b'product arriv label jumbo salt peanut peanut...  \n",
       "2  b'confect around centuri light pillowi citrus ...  \n",
       "3  b'great taffi great price wide assort yummi ta...  \n",
       "4  b'got wild hair taffi order five pound bag taf...  "
      ]
     },
     "execution_count": 2,
     "metadata": {},
     "output_type": "execute_result"
    }
   ],
   "source": [
    "#Loading the preprocessed data from previous assignment\n",
    "amazon_data = pd.read_csv('final_data.csv')\n",
    "amazon_data = amazon_data.drop([31393,294985,341395])\n",
    "amazon_data.head()"
   ]
  },
  {
   "cell_type": "markdown",
   "metadata": {},
   "source": [
    "### Sorting data based on timestamps"
   ]
  },
  {
   "cell_type": "code",
   "execution_count": 3,
   "metadata": {},
   "outputs": [
    {
     "data": {
      "text/html": [
       "<div>\n",
       "<style scoped>\n",
       "    .dataframe tbody tr th:only-of-type {\n",
       "        vertical-align: middle;\n",
       "    }\n",
       "\n",
       "    .dataframe tbody tr th {\n",
       "        vertical-align: top;\n",
       "    }\n",
       "\n",
       "    .dataframe thead th {\n",
       "        text-align: right;\n",
       "    }\n",
       "</style>\n",
       "<table border=\"1\" class=\"dataframe\">\n",
       "  <thead>\n",
       "    <tr style=\"text-align: right;\">\n",
       "      <th></th>\n",
       "      <th>Id</th>\n",
       "      <th>ProductId</th>\n",
       "      <th>UserId</th>\n",
       "      <th>ProfileName</th>\n",
       "      <th>HelpfulnessNumerator</th>\n",
       "      <th>HelpfulnessDenominator</th>\n",
       "      <th>Score</th>\n",
       "      <th>Time</th>\n",
       "      <th>Summary</th>\n",
       "      <th>Text</th>\n",
       "      <th>CleanedText</th>\n",
       "    </tr>\n",
       "  </thead>\n",
       "  <tbody>\n",
       "    <tr>\n",
       "      <th>0</th>\n",
       "      <td>451856</td>\n",
       "      <td>B00004CXX9</td>\n",
       "      <td>AIUWLEQ1ADEG5</td>\n",
       "      <td>Elizabeth Medina</td>\n",
       "      <td>0</td>\n",
       "      <td>0</td>\n",
       "      <td>positive</td>\n",
       "      <td>944092800</td>\n",
       "      <td>Entertainingl Funny!</td>\n",
       "      <td>Beetlejuice is a well written movie ..... ever...</td>\n",
       "      <td>b'beetlejuic well written movi everyth act spe...</td>\n",
       "    </tr>\n",
       "    <tr>\n",
       "      <th>1</th>\n",
       "      <td>374359</td>\n",
       "      <td>B00004CI84</td>\n",
       "      <td>A344SMIA5JECGM</td>\n",
       "      <td>Vincent P. Ross</td>\n",
       "      <td>1</td>\n",
       "      <td>2</td>\n",
       "      <td>positive</td>\n",
       "      <td>944438400</td>\n",
       "      <td>A modern day fairy tale</td>\n",
       "      <td>A twist of rumplestiskin captured on film, sta...</td>\n",
       "      <td>b'twist rumplestiskin captur film star michael...</td>\n",
       "    </tr>\n",
       "    <tr>\n",
       "      <th>2</th>\n",
       "      <td>451855</td>\n",
       "      <td>B00004CXX9</td>\n",
       "      <td>AJH6LUC1UT1ON</td>\n",
       "      <td>The Phantom of the Opera</td>\n",
       "      <td>0</td>\n",
       "      <td>0</td>\n",
       "      <td>positive</td>\n",
       "      <td>946857600</td>\n",
       "      <td>FANTASTIC!</td>\n",
       "      <td>Beetlejuice is an excellent and funny movie. K...</td>\n",
       "      <td>b'beetlejuic excel funni movi keaton hilari wa...</td>\n",
       "    </tr>\n",
       "    <tr>\n",
       "      <th>3</th>\n",
       "      <td>374422</td>\n",
       "      <td>B00004CI84</td>\n",
       "      <td>A1048CYU0OV4O8</td>\n",
       "      <td>Judy L. Eans</td>\n",
       "      <td>2</td>\n",
       "      <td>2</td>\n",
       "      <td>positive</td>\n",
       "      <td>947376000</td>\n",
       "      <td>GREAT</td>\n",
       "      <td>THIS IS ONE MOVIE THAT SHOULD BE IN YOUR MOVIE...</td>\n",
       "      <td>b'one movi movi collect fill comedi action wha...</td>\n",
       "    </tr>\n",
       "    <tr>\n",
       "      <th>4</th>\n",
       "      <td>374343</td>\n",
       "      <td>B00004CI84</td>\n",
       "      <td>A1B2IZU1JLZA6</td>\n",
       "      <td>Wes</td>\n",
       "      <td>19</td>\n",
       "      <td>23</td>\n",
       "      <td>negative</td>\n",
       "      <td>948240000</td>\n",
       "      <td>WARNING: CLAMSHELL EDITION IS EDITED TV VERSION</td>\n",
       "      <td>I, myself always enjoyed this movie, it's very...</td>\n",
       "      <td>b'alway enjoy movi funni entertain hesit pick ...</td>\n",
       "    </tr>\n",
       "  </tbody>\n",
       "</table>\n",
       "</div>"
      ],
      "text/plain": [
       "       Id   ProductId          UserId               ProfileName  \\\n",
       "0  451856  B00004CXX9   AIUWLEQ1ADEG5          Elizabeth Medina   \n",
       "1  374359  B00004CI84  A344SMIA5JECGM           Vincent P. Ross   \n",
       "2  451855  B00004CXX9   AJH6LUC1UT1ON  The Phantom of the Opera   \n",
       "3  374422  B00004CI84  A1048CYU0OV4O8              Judy L. Eans   \n",
       "4  374343  B00004CI84   A1B2IZU1JLZA6                       Wes   \n",
       "\n",
       "   HelpfulnessNumerator  HelpfulnessDenominator     Score       Time  \\\n",
       "0                     0                       0  positive  944092800   \n",
       "1                     1                       2  positive  944438400   \n",
       "2                     0                       0  positive  946857600   \n",
       "3                     2                       2  positive  947376000   \n",
       "4                    19                      23  negative  948240000   \n",
       "\n",
       "                                           Summary  \\\n",
       "0                             Entertainingl Funny!   \n",
       "1                          A modern day fairy tale   \n",
       "2                                       FANTASTIC!   \n",
       "3                                            GREAT   \n",
       "4  WARNING: CLAMSHELL EDITION IS EDITED TV VERSION   \n",
       "\n",
       "                                                Text  \\\n",
       "0  Beetlejuice is a well written movie ..... ever...   \n",
       "1  A twist of rumplestiskin captured on film, sta...   \n",
       "2  Beetlejuice is an excellent and funny movie. K...   \n",
       "3  THIS IS ONE MOVIE THAT SHOULD BE IN YOUR MOVIE...   \n",
       "4  I, myself always enjoyed this movie, it's very...   \n",
       "\n",
       "                                         CleanedText  \n",
       "0  b'beetlejuic well written movi everyth act spe...  \n",
       "1  b'twist rumplestiskin captur film star michael...  \n",
       "2  b'beetlejuic excel funni movi keaton hilari wa...  \n",
       "3  b'one movi movi collect fill comedi action wha...  \n",
       "4  b'alway enjoy movi funni entertain hesit pick ...  "
      ]
     },
     "execution_count": 3,
     "metadata": {},
     "output_type": "execute_result"
    }
   ],
   "source": [
    "#Sorting the data as per timestamps\n",
    "balanced_sorted_data = amazon_data.sort_values(by='Time',kind='quicksort',ascending=True,axis=0,inplace=False).reset_index(drop=True)\n",
    "balanced_sorted_data.head()"
   ]
  },
  {
   "cell_type": "code",
   "execution_count": 4,
   "metadata": {},
   "outputs": [
    {
     "data": {
      "text/plain": [
       "positive    307029\n",
       "negative     57105\n",
       "Name: Score, dtype: int64"
      ]
     },
     "execution_count": 4,
     "metadata": {},
     "output_type": "execute_result"
    }
   ],
   "source": [
    "balanced_data_score = balanced_sorted_data.Score\n",
    "balanced_data_score.value_counts()"
   ]
  },
  {
   "cell_type": "code",
   "execution_count": 5,
   "metadata": {},
   "outputs": [],
   "source": [
    "#Removing the Score column\n",
    "balanced_sorted_data = balanced_sorted_data.drop(columns='Score')"
   ]
  },
  {
   "cell_type": "code",
   "execution_count": 6,
   "metadata": {},
   "outputs": [],
   "source": [
    "#Sampling first 100k rows of sorted data into train and test data\n",
    "balanced_train_data = balanced_sorted_data.iloc[:70000,:]\n",
    "balanced_train_label = balanced_data_score[:70000]\n",
    "balanced_test_data = balanced_sorted_data.iloc[70000:100000,:]\n",
    "balanced_test_label = balanced_data_score[70000:100000]"
   ]
  },
  {
   "cell_type": "markdown",
   "metadata": {},
   "source": [
    "# Bag of Words(BOW)"
   ]
  },
  {
   "cell_type": "code",
   "execution_count": 7,
   "metadata": {},
   "outputs": [
    {
     "data": {
      "text/plain": [
       "(70000, 32552)"
      ]
     },
     "execution_count": 7,
     "metadata": {},
     "output_type": "execute_result"
    }
   ],
   "source": [
    "#Training and transforming the training data\n",
    "from sklearn.feature_extraction.text import CountVectorizer\n",
    "bow_model =CountVectorizer(dtype='float')\n",
    "bow_train_data = bow_model.fit_transform(balanced_train_data.CleanedText)\n",
    "bow_train_data.shape"
   ]
  },
  {
   "cell_type": "code",
   "execution_count": 8,
   "metadata": {},
   "outputs": [
    {
     "data": {
      "text/plain": [
       "(30000, 32552)"
      ]
     },
     "execution_count": 8,
     "metadata": {},
     "output_type": "execute_result"
    }
   ],
   "source": [
    "#Transforming the test data\n",
    "bow_test_data = bow_model.transform(balanced_test_data.CleanedText)\n",
    "bow_test_data.shape"
   ]
  },
  {
   "cell_type": "markdown",
   "metadata": {},
   "source": [
    "### 1. Applying BOW with GridSearchCV & L2 Regularizer"
   ]
  },
  {
   "cell_type": "code",
   "execution_count": 9,
   "metadata": {},
   "outputs": [],
   "source": [
    "#Applying GridSearchCV\n",
    "from sklearn.linear_model import LogisticRegression\n",
    "from sklearn.model_selection import GridSearchCV, RandomizedSearchCV\n",
    "log_model = LogisticRegression()\n",
    "parameters = {'C':[10**(-3),10**(-2),10**(-1),10**0,10**1,10**2,10**3,10**4]}\n",
    "grid_clf = GridSearchCV(log_model,parameters,scoring='accuracy')"
   ]
  },
  {
   "cell_type": "code",
   "execution_count": 10,
   "metadata": {},
   "outputs": [
    {
     "data": {
      "text/plain": [
       "GridSearchCV(cv=None, error_score='raise',\n",
       "       estimator=LogisticRegression(C=1.0, class_weight=None, dual=False, fit_intercept=True,\n",
       "          intercept_scaling=1, max_iter=100, multi_class='ovr', n_jobs=1,\n",
       "          penalty='l2', random_state=None, solver='liblinear', tol=0.0001,\n",
       "          verbose=0, warm_start=False),\n",
       "       fit_params=None, iid=True, n_jobs=1,\n",
       "       param_grid={'C': [0.001, 0.01, 0.1, 1, 10, 100, 1000, 10000]},\n",
       "       pre_dispatch='2*n_jobs', refit=True, return_train_score='warn',\n",
       "       scoring='accuracy', verbose=0)"
      ]
     },
     "execution_count": 10,
     "metadata": {},
     "output_type": "execute_result"
    }
   ],
   "source": [
    "#Fitting the gridsearch model\n",
    "grid_clf.fit(bow_train_data,balanced_train_label)"
   ]
  },
  {
   "cell_type": "code",
   "execution_count": 11,
   "metadata": {},
   "outputs": [
    {
     "data": {
      "text/plain": [
       "{'C': 0.1}"
      ]
     },
     "execution_count": 11,
     "metadata": {},
     "output_type": "execute_result"
    }
   ],
   "source": [
    "grid_clf.best_params_"
   ]
  },
  {
   "cell_type": "code",
   "execution_count": 12,
   "metadata": {},
   "outputs": [
    {
     "name": "stderr",
     "output_type": "stream",
     "text": [
      "F:\\Anaconda\\lib\\site-packages\\sklearn\\utils\\deprecation.py:122: FutureWarning: You are accessing a training score ('split0_train_score'), which will not be available by default any more in 0.21. If you need training scores, please set return_train_score=True\n",
      "  warnings.warn(*warn_args, **warn_kwargs)\n",
      "F:\\Anaconda\\lib\\site-packages\\sklearn\\utils\\deprecation.py:122: FutureWarning: You are accessing a training score ('split1_train_score'), which will not be available by default any more in 0.21. If you need training scores, please set return_train_score=True\n",
      "  warnings.warn(*warn_args, **warn_kwargs)\n",
      "F:\\Anaconda\\lib\\site-packages\\sklearn\\utils\\deprecation.py:122: FutureWarning: You are accessing a training score ('split2_train_score'), which will not be available by default any more in 0.21. If you need training scores, please set return_train_score=True\n",
      "  warnings.warn(*warn_args, **warn_kwargs)\n",
      "F:\\Anaconda\\lib\\site-packages\\sklearn\\utils\\deprecation.py:122: FutureWarning: You are accessing a training score ('mean_train_score'), which will not be available by default any more in 0.21. If you need training scores, please set return_train_score=True\n",
      "  warnings.warn(*warn_args, **warn_kwargs)\n",
      "F:\\Anaconda\\lib\\site-packages\\sklearn\\utils\\deprecation.py:122: FutureWarning: You are accessing a training score ('std_train_score'), which will not be available by default any more in 0.21. If you need training scores, please set return_train_score=True\n",
      "  warnings.warn(*warn_args, **warn_kwargs)\n"
     ]
    },
    {
     "data": {
      "text/plain": [
       "{'mean_fit_time': array([ 0.98283211,  0.91813588,  2.36696124,  5.71936456, 11.37742956,\n",
       "        12.05470467, 12.17297125, 12.18895666]),\n",
       " 'std_fit_time': array([0.4626642 , 0.04863641, 0.14354863, 0.52638   , 0.55410699,\n",
       "        1.06430762, 1.50755382, 1.06277174]),\n",
       " 'mean_score_time': array([0.05929971, 0.06429609, 0.04963779, 0.05430166, 0.05730065,\n",
       "        0.05163797, 0.06696105, 0.05996561]),\n",
       " 'std_score_time': array([0.00740456, 0.01696679, 0.0004712 , 0.00367995, 0.00966675,\n",
       "        0.00124753, 0.01495834, 0.01079482]),\n",
       " 'param_C': masked_array(data=[0.001, 0.01, 0.1, 1, 10, 100, 1000, 10000],\n",
       "              mask=[False, False, False, False, False, False, False, False],\n",
       "        fill_value='?',\n",
       "             dtype=object),\n",
       " 'params': [{'C': 0.001},\n",
       "  {'C': 0.01},\n",
       "  {'C': 0.1},\n",
       "  {'C': 1},\n",
       "  {'C': 10},\n",
       "  {'C': 100},\n",
       "  {'C': 1000},\n",
       "  {'C': 10000}],\n",
       " 'split0_test_score': array([0.88566041, 0.90743122, 0.92170224, 0.92157367, 0.91334533,\n",
       "        0.90978829, 0.91000257, 0.9076455 ]),\n",
       " 'split1_test_score': array([0.8861698 , 0.90862727, 0.92375605, 0.92444178, 0.91809883,\n",
       "        0.91574165, 0.91595594, 0.91638452]),\n",
       " 'split2_test_score': array([0.88569837, 0.90888441, 0.91831312, 0.91497021, 0.90935585,\n",
       "        0.90747011, 0.90712724, 0.90708439]),\n",
       " 'mean_test_score': array([0.88584286, 0.90831429, 0.92125714, 0.92032857, 0.9136    ,\n",
       "        0.911     , 0.91102857, 0.91037143]),\n",
       " 'std_test_score': array([0.0002317 , 0.0006332 , 0.00224423, 0.00396569, 0.00357382,\n",
       "        0.00348383, 0.00367657, 0.00425802]),\n",
       " 'rank_test_score': array([8, 7, 1, 2, 3, 5, 4, 6]),\n",
       " 'split0_train_score': array([0.88644838, 0.91419877, 0.94025629, 0.96406377, 0.97861398,\n",
       "        0.98334976, 0.98283547, 0.98469978]),\n",
       " 'split1_train_score': array([0.8862151 , 0.91332205, 0.93942186, 0.96320741, 0.97713588,\n",
       "        0.98090728, 0.98005014, 0.97900015]),\n",
       " 'split2_train_score': array([0.88655795, 0.91394347, 0.94092185, 0.96494311, 0.97827158,\n",
       "        0.98011443, 0.98105728, 0.98122871]),\n",
       " 'mean_train_score': array([0.88640714, 0.91382143, 0.9402    , 0.96407143, 0.97800715,\n",
       "        0.98145716, 0.9813143 , 0.98164288]),\n",
       " 'std_train_score': array([0.00014297, 0.00036818, 0.00061366, 0.00070862, 0.00063174,\n",
       "        0.00137686, 0.00115154, 0.00234522])}"
      ]
     },
     "execution_count": 12,
     "metadata": {},
     "output_type": "execute_result"
    }
   ],
   "source": [
    "grid_clf.cv_results_"
   ]
  },
  {
   "cell_type": "code",
   "execution_count": 13,
   "metadata": {},
   "outputs": [],
   "source": [
    "mean_test_scores_bow = grid_clf.cv_results_['mean_test_score']"
   ]
  },
  {
   "cell_type": "code",
   "execution_count": 14,
   "metadata": {},
   "outputs": [],
   "source": [
    "MSE = 1 - mean_test_scores_bow"
   ]
  },
  {
   "cell_type": "code",
   "execution_count": 15,
   "metadata": {},
   "outputs": [
    {
     "data": {
      "image/png": "[encoded data removed]",
      "text/plain": [
       "<Figure size 432x288 with 1 Axes>"
      ]
     },
     "metadata": {},
     "output_type": "display_data"
    }
   ],
   "source": [
    "#Showing the error plot for test data\n",
    "dumm_points = [1,2,3,4,5,6,7,8]\n",
    "plt.scatter(dumm_points,MSE)\n",
    "param_str = [str(i) for i in parameters['C']]\n",
    "plt.xlabel('C values')\n",
    "plt.title('Error Graph')\n",
    "plt.xticks(range(1,9),param_str)\n",
    "plt.ylabel('MSE')\n",
    "plt.show()"
   ]
  },
  {
   "cell_type": "code",
   "execution_count": 16,
   "metadata": {},
   "outputs": [],
   "source": [
    "#Fitting the train data with best paramaeter\n",
    "bow_log_model = LogisticRegression(C=0.1,penalty='l2')\n",
    "bow_log_model.fit(bow_train_data,balanced_train_label)\n",
    "bow_log_labels = bow_log_model.predict(bow_test_data)"
   ]
  },
  {
   "cell_type": "code",
   "execution_count": 17,
   "metadata": {},
   "outputs": [
    {
     "name": "stdout",
     "output_type": "stream",
     "text": [
      "The accuracy of the test data with Bag of Words model is -----> 91.66333333333333\n"
     ]
    }
   ],
   "source": [
    "#Finding the accuracy with test data\n",
    "from sklearn.metrics import accuracy_score\n",
    "score_bow_test = accuracy_score(balanced_test_label,bow_log_labels)*float(100)\n",
    "print(\"The accuracy of the test data with Bag of Words model is -----> \"+str(score_bow_test))"
   ]
  },
  {
   "cell_type": "code",
   "execution_count": 18,
   "metadata": {},
   "outputs": [
    {
     "name": "stdout",
     "output_type": "stream",
     "text": [
      "The accuracy of the train data with Bag of Words model is -----> 93.91428571428571\n"
     ]
    }
   ],
   "source": [
    "#Finding the accuracy with train data\n",
    "bow_log_train_labels = bow_log_model.predict(bow_train_data)\n",
    "score_bow_train = accuracy_score(balanced_train_label,bow_log_train_labels)*float(100)\n",
    "print(\"The accuracy of the train data with Bag of Words model is -----> \"+str(score_bow_train))"
   ]
  },
  {
   "cell_type": "markdown",
   "metadata": {},
   "source": [
    "### 2. Applying Pertubation Technique for checking multicollinearity"
   ]
  },
  {
   "cell_type": "code",
   "execution_count": 31,
   "metadata": {},
   "outputs": [],
   "source": [
    "#Sampling data\n",
    "balanced_pertub_data = balanced_sorted_data.iloc[:5600,:]\n",
    "balanced_pertub_label = balanced_data_score[:5600]"
   ]
  },
  {
   "cell_type": "code",
   "execution_count": 32,
   "metadata": {},
   "outputs": [
    {
     "data": {
      "text/plain": [
       "(5600, 11596)"
      ]
     },
     "execution_count": 32,
     "metadata": {},
     "output_type": "execute_result"
    }
   ],
   "source": [
    "#Applying BOW on pertub data\n",
    "from sklearn.feature_extraction.text import CountVectorizer\n",
    "bow_mod = CountVectorizer(dtype='float')\n",
    "bow_mod_data = bow_mod.fit_transform(balanced_pertub_data.CleanedText)\n",
    "bow_mod_data.shape"
   ]
  },
  {
   "cell_type": "code",
   "execution_count": 43,
   "metadata": {},
   "outputs": [
    {
     "data": {
      "text/plain": [
       "LogisticRegression(C=0.1, class_weight=None, dual=False, fit_intercept=True,\n",
       "          intercept_scaling=1, max_iter=100, multi_class='ovr', n_jobs=1,\n",
       "          penalty='l2', random_state=None, solver='liblinear', tol=0.0001,\n",
       "          verbose=0, warm_start=False)"
      ]
     },
     "execution_count": 43,
     "metadata": {},
     "output_type": "execute_result"
    }
   ],
   "source": [
    "#Normal model\n",
    "bow_log_mod = LogisticRegression(C=0.1,penalty='l2')\n",
    "bow_log_mod.fit(bow_mod_data,balanced_pertub_label)"
   ]
  },
  {
   "cell_type": "code",
   "execution_count": 44,
   "metadata": {},
   "outputs": [
    {
     "data": {
      "text/plain": [
       "(5600, 11596)"
      ]
     },
     "execution_count": 44,
     "metadata": {},
     "output_type": "execute_result"
    }
   ],
   "source": [
    "#Building pertubation matrix\n",
    "epsi = np.random.normal(loc=0.0,scale=0.00000001,size=bow_mod_data.shape)  #Loss to be added with the data\n",
    "pertubated_bow_data = bow_mod_data + epsi\n",
    "pertubated_bow_data.shape"
   ]
  },
  {
   "cell_type": "code",
   "execution_count": 45,
   "metadata": {},
   "outputs": [
    {
     "data": {
      "text/plain": [
       "LogisticRegression(C=0.1, class_weight=None, dual=False, fit_intercept=True,\n",
       "          intercept_scaling=1, max_iter=100, multi_class='ovr', n_jobs=1,\n",
       "          penalty='l2', random_state=None, solver='liblinear', tol=0.0001,\n",
       "          verbose=0, warm_start=False)"
      ]
     },
     "execution_count": 45,
     "metadata": {},
     "output_type": "execute_result"
    }
   ],
   "source": [
    "from sklearn.linear_model import LogisticRegression\n",
    "bow_pertubated_model = LogisticRegression(C=0.1,penalty='l2')\n",
    "bow_pertubated_model.fit(pertubated_bow_data,balanced_pertub_label)"
   ]
  },
  {
   "cell_type": "code",
   "execution_count": 46,
   "metadata": {},
   "outputs": [
    {
     "data": {
      "text/plain": [
       "0.0043841832710737935"
      ]
     },
     "execution_count": 46,
     "metadata": {},
     "output_type": "execute_result"
    }
   ],
   "source": [
    "var = np.var(bow_log_mod.coef_[0])\n",
    "var"
   ]
  },
  {
   "cell_type": "code",
   "execution_count": 47,
   "metadata": {},
   "outputs": [
    {
     "data": {
      "text/plain": [
       "0.004384183276672018"
      ]
     },
     "execution_count": 47,
     "metadata": {},
     "output_type": "execute_result"
    }
   ],
   "source": [
    "varp = np.var(bow_pertubated_model.coef_[0])\n",
    "varp"
   ]
  },
  {
   "cell_type": "code",
   "execution_count": 57,
   "metadata": {},
   "outputs": [
    {
     "data": {
      "text/plain": [
       "array([-3.44544657e-06, -5.08444797e-03, -3.79620879e-06, ...,\n",
       "       -6.26533622e-04,  3.13711996e-05,  5.03614196e-07])"
      ]
     },
     "execution_count": 57,
     "metadata": {},
     "output_type": "execute_result"
    }
   ],
   "source": [
    "#Calculating percentage change in wieghts for each feature\n",
    "wt_change = (bow_pertubated_model.coef_[0]-bow_log_mod.coef_[0])/(bow_log_mod.coef_[0])\n",
    "wt_change"
   ]
  },
  {
   "cell_type": "markdown",
   "metadata": {},
   "source": [
    "### Conclusion: The data is not multicollinear as both the variance are nearly similar"
   ]
  },
  {
   "cell_type": "markdown",
   "metadata": {},
   "source": [
    "### 3.  Finding important features"
   ]
  },
  {
   "cell_type": "code",
   "execution_count": 185,
   "metadata": {},
   "outputs": [],
   "source": [
    "#Getting important words for positive and negative class\n",
    "pos_imp_words = bow_log_model.coef_[bow_log_model.coef_>0]\n",
    "neg_imp_words = bow_log_model.coef_[bow_log_model.coef_<0]"
   ]
  },
  {
   "cell_type": "code",
   "execution_count": 181,
   "metadata": {},
   "outputs": [],
   "source": [
    "#Function to get important postive words\n",
    "def getposWords(pos_imp_words):\n",
    "    x = sorted(pos_imp_words,reverse=True)\n",
    "    y = x[0:10]\n",
    "    indices = []\n",
    "    for i in y:\n",
    "        index = np.where(bow_log_model.coef_==i)\n",
    "        indices.append(index[1])\n",
    "    return indices"
   ]
  },
  {
   "cell_type": "code",
   "execution_count": 190,
   "metadata": {},
   "outputs": [],
   "source": [
    "#Function to get important negative words\n",
    "def getnegWords(neg_imp_words):\n",
    "    x = sorted(neg_imp_words)\n",
    "    y = x[0:10]\n",
    "    indices = []\n",
    "    for i in y:\n",
    "        index = np.where(bow_log_model.coef_==i)\n",
    "        indices.append(index[1])\n",
    "    return indices"
   ]
  },
  {
   "cell_type": "code",
   "execution_count": 191,
   "metadata": {},
   "outputs": [
    {
     "data": {
      "text/plain": [
       "array([['perfect'],\n",
       "       ['excel'],\n",
       "       ['delici'],\n",
       "       ['amaz'],\n",
       "       ['best'],\n",
       "       ['great'],\n",
       "       ['addict'],\n",
       "       ['smooth'],\n",
       "       ['nice'],\n",
       "       ['hook']], dtype='<U36')"
      ]
     },
     "execution_count": 191,
     "metadata": {},
     "output_type": "execute_result"
    }
   ],
   "source": [
    "#Getting top 10 positive words\n",
    "imp_words_pos = np.take(bow_model.get_feature_names(),getposWords(pos_imp_words))\n",
    "imp_words_pos"
   ]
  },
  {
   "cell_type": "code",
   "execution_count": 192,
   "metadata": {},
   "outputs": [
    {
     "data": {
      "text/plain": [
       "array([['worst'],\n",
       "       ['terribl'],\n",
       "       ['disappoint'],\n",
       "       ['bland'],\n",
       "       ['aw'],\n",
       "       ['threw'],\n",
       "       ['horribl'],\n",
       "       ['unfortun'],\n",
       "       ['stale'],\n",
       "       ['sorri']], dtype='<U36')"
      ]
     },
     "execution_count": 192,
     "metadata": {},
     "output_type": "execute_result"
    }
   ],
   "source": [
    "#Getting top 10 negative words\n",
    "imp_words_neg = np.take(bow_model.get_feature_names(),getnegWords(neg_imp_words))\n",
    "imp_words_neg"
   ]
  },
  {
   "cell_type": "markdown",
   "metadata": {},
   "source": [
    "### 4. Applying L1 Regularizer on BOW data"
   ]
  },
  {
   "cell_type": "code",
   "execution_count": 199,
   "metadata": {},
   "outputs": [
    {
     "data": {
      "text/plain": [
       "732"
      ]
     },
     "execution_count": 199,
     "metadata": {},
     "output_type": "execute_result"
    }
   ],
   "source": [
    "#Applying l1 regularizer to build a model\n",
    "bow_model_l1 = LogisticRegression(penalty='l1',C=1)\n",
    "bow_model_l1.fit(bow_train_data,balanced_train_label)\n",
    "sparse_coef = bow_model_l1.coef_\n",
    "np.count_nonzero(sparse_coef)"
   ]
  },
  {
   "cell_type": "code",
   "execution_count": 200,
   "metadata": {},
   "outputs": [
    {
     "data": {
      "text/plain": [
       "117"
      ]
     },
     "execution_count": 200,
     "metadata": {},
     "output_type": "execute_result"
    }
   ],
   "source": [
    "bow_model_l1 = LogisticRegression(penalty='l1',C=0.1)\n",
    "bow_model_l1.fit(bow_train_data,balanced_train_label)\n",
    "sparse_coef = bow_model_l1.coef_\n",
    "np.count_nonzero(sparse_coef)"
   ]
  },
  {
   "cell_type": "code",
   "execution_count": 201,
   "metadata": {},
   "outputs": [
    {
     "data": {
      "text/plain": [
       "4"
      ]
     },
     "execution_count": 201,
     "metadata": {},
     "output_type": "execute_result"
    }
   ],
   "source": [
    "bow_model_l1 = LogisticRegression(penalty='l1',C=0.01)\n",
    "bow_model_l1.fit(bow_train_data,balanced_train_label)\n",
    "sparse_coef = bow_model_l1.coef_\n",
    "np.count_nonzero(sparse_coef)"
   ]
  },
  {
   "cell_type": "markdown",
   "metadata": {},
   "source": [
    "### Conclusion: As C decreases or lambda increases the sparsity of the weight vector increases"
   ]
  },
  {
   "cell_type": "markdown",
   "metadata": {},
   "source": [
    "### 5. Applying RandomizedSearchCV"
   ]
  },
  {
   "cell_type": "code",
   "execution_count": 22,
   "metadata": {},
   "outputs": [],
   "source": [
    "rand_params = {'C': np.random.uniform(0,1,50)}\n",
    "rand_clf = RandomizedSearchCV(log_model,rand_params,scoring='accuracy')"
   ]
  },
  {
   "cell_type": "code",
   "execution_count": 23,
   "metadata": {},
   "outputs": [
    {
     "data": {
      "text/plain": [
       "RandomizedSearchCV(cv=None, error_score='raise',\n",
       "          estimator=LogisticRegression(C=1.0, class_weight=None, dual=False, fit_intercept=True,\n",
       "          intercept_scaling=1, max_iter=100, multi_class='ovr', n_jobs=1,\n",
       "          penalty='l2', random_state=None, solver='liblinear', tol=0.0001,\n",
       "          verbose=0, warm_start=False),\n",
       "          fit_params=None, iid=True, n_iter=10, n_jobs=1,\n",
       "          param_distributions={'C': array([0.56532, 0.01319, 0.12341, 0.74131, 0.63528, 0.7782 , 0.94116,\n",
       "       0.72031, 0.78563, 0.08557, 0.16237, 0.93276, 0.1252 , 0.73959,\n",
       "       0.10862, 0.42526, 0.34317, 0.11074, 0.71698, 0.25038, 0.74519,\n",
       "       0.74221, 0.62873, 0.80429, 0.75101, 0.56491, 0.01435, 0.6...35, 0.60859,\n",
       "       0.03895, 0.67482, 0.25016, 0.21831, 0.91698, 0.05509, 0.15197,\n",
       "       0.09521])},\n",
       "          pre_dispatch='2*n_jobs', random_state=None, refit=True,\n",
       "          return_train_score='warn', scoring='accuracy', verbose=0)"
      ]
     },
     "execution_count": 23,
     "metadata": {},
     "output_type": "execute_result"
    }
   ],
   "source": [
    "rand_clf.fit(bow_train_data,balanced_train_label)"
   ]
  },
  {
   "cell_type": "code",
   "execution_count": 24,
   "metadata": {},
   "outputs": [
    {
     "data": {
      "text/plain": [
       "{'C': 0.25016145103107024}"
      ]
     },
     "execution_count": 24,
     "metadata": {},
     "output_type": "execute_result"
    }
   ],
   "source": [
    "rand_clf.best_params_"
   ]
  },
  {
   "cell_type": "code",
   "execution_count": 25,
   "metadata": {},
   "outputs": [],
   "source": [
    "mean_test_scores_bow_rand = rand_clf.cv_results_['mean_test_score']"
   ]
  },
  {
   "cell_type": "code",
   "execution_count": 26,
   "metadata": {},
   "outputs": [],
   "source": [
    "MSE = 1 - mean_test_scores_bow_rand\n",
    "rand_par = rand_clf.cv_results_['params']\n",
    "rand_par = [i['C'] for i in rand_par]"
   ]
  },
  {
   "cell_type": "code",
   "execution_count": 27,
   "metadata": {
    "scrolled": true
   },
   "outputs": [
    {
     "data": {
      "image/png": "[encoded data removed]",
      "text/plain": [
       "<Figure size 432x288 with 1 Axes>"
      ]
     },
     "metadata": {},
     "output_type": "display_data"
    }
   ],
   "source": [
    "#Showing the error plot for test data\n",
    "dumm_points = list(range(0,10))\n",
    "plt.scatter(dumm_points,MSE)\n",
    "param_str = [str(i) for i in rand_par]\n",
    "plt.xlabel('C values')\n",
    "plt.title('Error Graph')\n",
    "plt.xticks(range(0,10),param_str,size='small',rotation='45')\n",
    "plt.ylabel('MSE')\n",
    "plt.show()"
   ]
  },
  {
   "cell_type": "code",
   "execution_count": 28,
   "metadata": {},
   "outputs": [],
   "source": [
    "#Building the model with best C\n",
    "bow_log_model_rand = LogisticRegression(C= 0.3139696995907474,penalty='l2')\n",
    "bow_log_model_rand.fit(bow_train_data,balanced_train_label)\n",
    "bow_log_labels_rand = bow_log_model_rand.predict(bow_test_data)"
   ]
  },
  {
   "cell_type": "code",
   "execution_count": 29,
   "metadata": {},
   "outputs": [
    {
     "name": "stdout",
     "output_type": "stream",
     "text": [
      "The accuracy of the test data with Bag of Words model is -----> 91.84333333333333\n"
     ]
    }
   ],
   "source": [
    "score_bow_test_rand = accuracy_score(balanced_test_label,bow_log_labels_rand)*float(100)\n",
    "print(\"The accuracy of the test data with Bag of Words model is -----> \"+str(score_bow_test_rand))"
   ]
  },
  {
   "cell_type": "code",
   "execution_count": 30,
   "metadata": {},
   "outputs": [
    {
     "name": "stdout",
     "output_type": "stream",
     "text": [
      "The accuracy of the train data with Bag of Words model is -----> 93.91428571428571\n"
     ]
    }
   ],
   "source": [
    "#Finding the accuracy with train data\n",
    "bow_log_train_labels_rand = bow_log_model_rand.predict(bow_train_data)\n",
    "score_bow_train_rand = accuracy_score(balanced_train_label,bow_log_train_labels)*float(100)\n",
    "print(\"The accuracy of the train data with Bag of Words model is -----> \"+str(score_bow_train_rand))"
   ]
  },
  {
   "cell_type": "code",
   "execution_count": 31,
   "metadata": {},
   "outputs": [
    {
     "data": {
      "image/png": "[encoded data removed]",
      "text/plain": [
       "<Figure size 432x288 with 2 Axes>"
      ]
     },
     "metadata": {},
     "output_type": "display_data"
    }
   ],
   "source": [
    "#Building the Confustion matrix\n",
    "from sklearn.metrics import confusion_matrix\n",
    "import seaborn as sns\n",
    "cnf_bow_rand = confusion_matrix(balanced_test_label,bow_log_labels_rand)\n",
    "sns.heatmap(cnf_bow_rand,cmap=plt.cm.gray,annot=True,fmt='.1f')\n",
    "plt.xlabel('Predicted Values')\n",
    "plt.ylabel('Actual Values')\n",
    "plt.title('Confustion matrix')\n",
    "plt.show()"
   ]
  },
  {
   "cell_type": "code",
   "execution_count": 32,
   "metadata": {},
   "outputs": [
    {
     "name": "stdout",
     "output_type": "stream",
     "text": [
      "The TNR for BOW is 2320\n",
      "The FPR for BOW is 1782\n",
      "The FNR for BOW is 665\n",
      "The TPR for BOW is 25233\n"
     ]
    }
   ],
   "source": [
    "#Finding the tnr,fpr,fnr,tpr\n",
    "tnr_bow_rand = cnf_bow_rand[0,0] \n",
    "fpr_bow_rand = cnf_bow_rand[0,1] \n",
    "fnr_bow_rand = cnf_bow_rand[1,0] \n",
    "tpr_bow_rand = cnf_bow_rand[1,1] \n",
    "print('The TNR for BOW is '+str(tnr_bow_rand))\n",
    "print('The FPR for BOW is '+str(fpr_bow_rand))\n",
    "print('The FNR for BOW is '+str(fnr_bow_rand))\n",
    "print('The TPR for BOW is '+str(tpr_bow_rand))"
   ]
  },
  {
   "cell_type": "code",
   "execution_count": 33,
   "metadata": {},
   "outputs": [
    {
     "name": "stdout",
     "output_type": "stream",
     "text": [
      "The precision of TFIDF is 0.9340366463076069\n",
      "The recall of TFIDF is 0.9743223414935517\n"
     ]
    }
   ],
   "source": [
    "#Finding Precision and Recall\n",
    "precision_bow_rand = tpr_bow_rand/(tpr_bow_rand+fpr_bow_rand)\n",
    "recall_bow_rand = tpr_bow_rand/(tpr_bow_rand+fnr_bow_rand)\n",
    "print(\"The precision of TFIDF is \"+str(precision_bow_rand))\n",
    "print(\"The recall of TFIDF is \"+str(recall_bow_rand))"
   ]
  },
  {
   "cell_type": "code",
   "execution_count": 34,
   "metadata": {},
   "outputs": [
    {
     "name": "stdout",
     "output_type": "stream",
     "text": [
      "The F1 score of TFIDF Word2Vec is 0.9537542758868331\n"
     ]
    }
   ],
   "source": [
    "#Finding the F1 Score\n",
    "f1_bow_rand = (2*precision_bow_rand*recall_bow_rand)/(precision_bow_rand+recall_bow_rand)\n",
    "print(\"The F1 score of TFIDF Word2Vec is \"+str(f1_bow_rand))"
   ]
  },
  {
   "cell_type": "markdown",
   "metadata": {},
   "source": [
    "# Conclusion\n",
    "### 1.RandomizedSeachCV provided a better C value which resulted in better accuracy.\n",
    "### 2. There is no multicollinearity from the pertubation test"
   ]
  },
  {
   "cell_type": "markdown",
   "metadata": {},
   "source": [
    "# TFIDF Vectorizer"
   ]
  },
  {
   "cell_type": "code",
   "execution_count": 35,
   "metadata": {},
   "outputs": [
    {
     "data": {
      "text/plain": [
       "(70000, 32552)"
      ]
     },
     "execution_count": 35,
     "metadata": {},
     "output_type": "execute_result"
    }
   ],
   "source": [
    "#Building the TFIDF Vectorizer with train data\n",
    "from sklearn.feature_extraction.text import TfidfVectorizer\n",
    "tfidf_model = TfidfVectorizer(dtype='float')\n",
    "tfidf_train_data = tfidf_model.fit_transform(balanced_train_data.CleanedText.values)\n",
    "tfidf_train_data.shape"
   ]
  },
  {
   "cell_type": "code",
   "execution_count": 36,
   "metadata": {},
   "outputs": [
    {
     "data": {
      "text/plain": [
       "(30000, 32552)"
      ]
     },
     "execution_count": 36,
     "metadata": {},
     "output_type": "execute_result"
    }
   ],
   "source": [
    "#Transforming the test data\n",
    "tfidf_test_data = tfidf_model.transform(balanced_test_data.CleanedText.values)\n",
    "tfidf_test_data.shape"
   ]
  },
  {
   "cell_type": "markdown",
   "metadata": {},
   "source": [
    "### 1. Applying TFIDF with GridSearchCV & L2 Regularizer"
   ]
  },
  {
   "cell_type": "code",
   "execution_count": 37,
   "metadata": {},
   "outputs": [],
   "source": [
    "from sklearn.model_selection import GridSearchCV,RandomizedSearchCV\n",
    "from sklearn.linear_model import LogisticRegression\n",
    "lr_model = LogisticRegression()\n",
    "params = {'C':[10**(-3),10**(-2),10**(-1),10**0,10**1,10**2,10**3,10**4]}\n",
    "grid_clf_tf = GridSearchCV(lr_model,params,scoring='accuracy')"
   ]
  },
  {
   "cell_type": "code",
   "execution_count": 38,
   "metadata": {},
   "outputs": [
    {
     "data": {
      "text/plain": [
       "GridSearchCV(cv=None, error_score='raise',\n",
       "       estimator=LogisticRegression(C=1.0, class_weight=None, dual=False, fit_intercept=True,\n",
       "          intercept_scaling=1, max_iter=100, multi_class='ovr', n_jobs=1,\n",
       "          penalty='l2', random_state=None, solver='liblinear', tol=0.0001,\n",
       "          verbose=0, warm_start=False),\n",
       "       fit_params=None, iid=True, n_jobs=1,\n",
       "       param_grid={'C': [0.001, 0.01, 0.1, 1, 10, 100, 1000, 10000]},\n",
       "       pre_dispatch='2*n_jobs', refit=True, return_train_score='warn',\n",
       "       scoring='accuracy', verbose=0)"
      ]
     },
     "execution_count": 38,
     "metadata": {},
     "output_type": "execute_result"
    }
   ],
   "source": [
    "#Fitting the gridsearch model\n",
    "grid_clf_tf.fit(tfidf_train_data,balanced_train_label)"
   ]
  },
  {
   "cell_type": "code",
   "execution_count": 39,
   "metadata": {},
   "outputs": [
    {
     "data": {
      "text/plain": [
       "{'C': 10}"
      ]
     },
     "execution_count": 39,
     "metadata": {},
     "output_type": "execute_result"
    }
   ],
   "source": [
    "grid_clf_tf.best_params_"
   ]
  },
  {
   "cell_type": "code",
   "execution_count": 40,
   "metadata": {},
   "outputs": [],
   "source": [
    "mean_test_scores_tf = grid_clf_tf.cv_results_['mean_test_score']"
   ]
  },
  {
   "cell_type": "code",
   "execution_count": 41,
   "metadata": {},
   "outputs": [],
   "source": [
    "MSE = 1-mean_test_scores_tf"
   ]
  },
  {
   "cell_type": "code",
   "execution_count": 42,
   "metadata": {},
   "outputs": [
    {
     "data": {
      "image/png": "[encoded data removed]",
      "text/plain": [
       "<Figure size 432x288 with 1 Axes>"
      ]
     },
     "metadata": {},
     "output_type": "display_data"
    }
   ],
   "source": [
    "#Plotting the error graph\n",
    "dumm_points=[1,2,3,4,5,6,7,8]\n",
    "plt.scatter(dumm_points,MSE)\n",
    "plt.xlabel('C value')\n",
    "plt.ylabel('MSE')\n",
    "plt.xticks(range(1,9),params['C'])\n",
    "plt.title('Error Plot')\n",
    "plt.show()"
   ]
  },
  {
   "cell_type": "code",
   "execution_count": 43,
   "metadata": {},
   "outputs": [],
   "source": [
    "#Training the model with optimal C\n",
    "tfidf_lr_model_grid = LogisticRegression(C=10,penalty='l2')\n",
    "tfidf_lr_model_grid.fit(tfidf_train_data,balanced_train_label)\n",
    "tfidf_lr_labels = tfidf_lr_model_grid.predict(tfidf_test_data)"
   ]
  },
  {
   "cell_type": "code",
   "execution_count": 44,
   "metadata": {},
   "outputs": [
    {
     "name": "stdout",
     "output_type": "stream",
     "text": [
      "The accuracy score for test data with TfidfVectorizer is ----> 91.99000000000001\n"
     ]
    }
   ],
   "source": [
    "#Finding the accuracy of test data\n",
    "from sklearn.metrics import accuracy_score\n",
    "score_tfidf_test = accuracy_score(balanced_test_label,tfidf_lr_labels)*float(100)\n",
    "print(\"The accuracy score for test data with TfidfVectorizer is ----> \"+str(score_tfidf_test))"
   ]
  },
  {
   "cell_type": "code",
   "execution_count": 45,
   "metadata": {},
   "outputs": [
    {
     "name": "stdout",
     "output_type": "stream",
     "text": [
      "The accuracy score for train data with TfidfVectorizer is ----> 95.85285714285715\n"
     ]
    }
   ],
   "source": [
    "#Finding the accuracy for train data\n",
    "tfidf_lr_labels_train = tfidf_lr_model_grid.predict(tfidf_train_data)\n",
    "score_tfidf_train = accuracy_score(balanced_train_label,tfidf_lr_labels_train)*float(100)\n",
    "print(\"The accuracy score for train data with TfidfVectorizer is ----> \"+str(score_tfidf_train))"
   ]
  },
  {
   "cell_type": "markdown",
   "metadata": {},
   "source": [
    "### 2.Performing Pertubation test"
   ]
  },
  {
   "cell_type": "code",
   "execution_count": 58,
   "metadata": {},
   "outputs": [
    {
     "data": {
      "text/plain": [
       "(5600, 11596)"
      ]
     },
     "execution_count": 58,
     "metadata": {},
     "output_type": "execute_result"
    }
   ],
   "source": [
    "#Applying TFIDF on pertub data\n",
    "from sklearn.feature_extraction.text import TfidfVectorizer\n",
    "tfidf_mod = CountVectorizer(dtype='float')\n",
    "tfidf_mod_data = tfidf_mod.fit_transform(balanced_pertub_data.CleanedText)\n",
    "tfidf_mod_data.shape"
   ]
  },
  {
   "cell_type": "code",
   "execution_count": 59,
   "metadata": {},
   "outputs": [
    {
     "data": {
      "text/plain": [
       "LogisticRegression(C=0.1, class_weight=None, dual=False, fit_intercept=True,\n",
       "          intercept_scaling=1, max_iter=100, multi_class='ovr', n_jobs=1,\n",
       "          penalty='l2', random_state=None, solver='liblinear', tol=0.0001,\n",
       "          verbose=0, warm_start=False)"
      ]
     },
     "execution_count": 59,
     "metadata": {},
     "output_type": "execute_result"
    }
   ],
   "source": [
    "#Normal model\n",
    "tfidf_log_mod = LogisticRegression(C=0.1,penalty='l2')\n",
    "tfidf_log_mod.fit(tfidf_mod_data,balanced_pertub_label)"
   ]
  },
  {
   "cell_type": "code",
   "execution_count": 60,
   "metadata": {},
   "outputs": [
    {
     "data": {
      "text/plain": [
       "(5600, 11596)"
      ]
     },
     "execution_count": 60,
     "metadata": {},
     "output_type": "execute_result"
    }
   ],
   "source": [
    "#Building pertubation matrix\n",
    "epsi = np.random.normal(loc=0.0,scale=0.00000001,size=tfidf_mod_data.shape)  #Loss to be added with the data\n",
    "pertubated_tfidf_data = tfidf_mod_data + epsi\n",
    "pertubated_tfidf_data.shape"
   ]
  },
  {
   "cell_type": "code",
   "execution_count": 61,
   "metadata": {},
   "outputs": [
    {
     "data": {
      "text/plain": [
       "LogisticRegression(C=0.1, class_weight=None, dual=False, fit_intercept=True,\n",
       "          intercept_scaling=1, max_iter=100, multi_class='ovr', n_jobs=1,\n",
       "          penalty='l2', random_state=None, solver='liblinear', tol=0.0001,\n",
       "          verbose=0, warm_start=False)"
      ]
     },
     "execution_count": 61,
     "metadata": {},
     "output_type": "execute_result"
    }
   ],
   "source": [
    "from sklearn.linear_model import LogisticRegression\n",
    "tfidf_pertubated_model = LogisticRegression(C=0.1,penalty='l2')\n",
    "tfidf_pertubated_model.fit(pertubated_tfidf_data,balanced_pertub_label)"
   ]
  },
  {
   "cell_type": "code",
   "execution_count": 168,
   "metadata": {},
   "outputs": [
    {
     "data": {
      "text/plain": [
       "LogisticRegression(C=10, class_weight=None, dual=False, fit_intercept=True,\n",
       "          intercept_scaling=1, max_iter=100, multi_class='ovr', n_jobs=1,\n",
       "          penalty='l2', random_state=None, solver='liblinear', tol=0.0001,\n",
       "          verbose=0, warm_start=False)"
      ]
     },
     "execution_count": 168,
     "metadata": {},
     "output_type": "execute_result"
    }
   ],
   "source": [
    "lr_pert_tfidf = LogisticRegression(C=10,penalty='l2')\n",
    "lr_pert_tfidf.fit(pertubation_mat_tfidf,balanced_train_label)"
   ]
  },
  {
   "cell_type": "code",
   "execution_count": 169,
   "metadata": {},
   "outputs": [
    {
     "data": {
      "text/plain": [
       "0.4965028568301108"
      ]
     },
     "execution_count": 169,
     "metadata": {},
     "output_type": "execute_result"
    }
   ],
   "source": [
    "np.var(tfidf_lr_model_grid.coef_)"
   ]
  },
  {
   "cell_type": "code",
   "execution_count": 170,
   "metadata": {},
   "outputs": [
    {
     "data": {
      "text/plain": [
       "0.4965028552424498"
      ]
     },
     "execution_count": 170,
     "metadata": {},
     "output_type": "execute_result"
    }
   ],
   "source": [
    "np.var(lr_pert_tfidf.coef_)"
   ]
  },
  {
   "cell_type": "code",
   "execution_count": 66,
   "metadata": {},
   "outputs": [
    {
     "data": {
      "text/plain": [
       "array([-2.59203485e-06,  1.12111609e-04,  1.58948482e-06, ...,\n",
       "       -6.57894514e-04, -9.87179319e-06,  1.61658296e-05])"
      ]
     },
     "execution_count": 66,
     "metadata": {},
     "output_type": "execute_result"
    }
   ],
   "source": [
    "#Calculating percentage change in wieghts  for each feature\n",
    "wt_change = (tfidf_pertubated_model.coef_[0]-tfidf_log_mod.coef_[0])/(tfidf_log_mod.coef_[0])\n",
    "wt_change"
   ]
  },
  {
   "cell_type": "markdown",
   "metadata": {},
   "source": [
    "### Conclusion: The features are not multicollinear as the pertubated data and normal data weight vectors both nearly have the same variance"
   ]
  },
  {
   "cell_type": "markdown",
   "metadata": {},
   "source": [
    "### 3. Finding Important Features"
   ]
  },
  {
   "cell_type": "code",
   "execution_count": 194,
   "metadata": {},
   "outputs": [],
   "source": [
    "#Getting the important words for positive and negative class\n",
    "pos_imp_words = tfidf_lr_model_grid.coef_[tfidf_lr_model_grid.coef_>0]\n",
    "neg_imp_words = tfidf_lr_model_grid.coef_[tfidf_lr_model_grid.coef_<0]"
   ]
  },
  {
   "cell_type": "code",
   "execution_count": 195,
   "metadata": {},
   "outputs": [],
   "source": [
    "#Function to get important postive words\n",
    "def getposWords(pos_imp_words):\n",
    "    x = sorted(pos_imp_words,reverse=True)\n",
    "    y = x[0:10]\n",
    "    indices= []\n",
    "    for i in y:\n",
    "        index = np.where(tfidf_lr_model_grid.coef_==i)\n",
    "        indices.append(index[1])\n",
    "    return indices"
   ]
  },
  {
   "cell_type": "code",
   "execution_count": 196,
   "metadata": {},
   "outputs": [],
   "source": [
    "#Function to get important negative words\n",
    "def getnegWords(neg_imp_words):\n",
    "    x = sorted(neg_imp_words)\n",
    "    y = x[0:10]\n",
    "    indices= []\n",
    "    for i in y:\n",
    "        index = np.where(tfidf_lr_model_grid.coef_==i)\n",
    "        indices.append(index[1])\n",
    "    return indices"
   ]
  },
  {
   "cell_type": "code",
   "execution_count": 197,
   "metadata": {},
   "outputs": [
    {
     "data": {
      "text/plain": [
       "array([['great'],\n",
       "       ['perfect'],\n",
       "       ['best'],\n",
       "       ['delici'],\n",
       "       ['excel'],\n",
       "       ['love'],\n",
       "       ['amaz'],\n",
       "       ['addict'],\n",
       "       ['nice'],\n",
       "       ['skeptic']], dtype='<U36')"
      ]
     },
     "execution_count": 197,
     "metadata": {},
     "output_type": "execute_result"
    }
   ],
   "source": [
    "#Important postive words\n",
    "tfidf_imp_pos_words = np.take(tfidf_model.get_feature_names(),getposWords(pos_imp_words))\n",
    "tfidf_imp_pos_words"
   ]
  },
  {
   "cell_type": "code",
   "execution_count": 198,
   "metadata": {},
   "outputs": [
    {
     "data": {
      "text/plain": [
       "array([['worst'],\n",
       "       ['disappoint'],\n",
       "       ['aw'],\n",
       "       ['terribl'],\n",
       "       ['bland'],\n",
       "       ['unfortun'],\n",
       "       ['threw'],\n",
       "       ['horribl'],\n",
       "       ['stale'],\n",
       "       ['unpleas']], dtype='<U36')"
      ]
     },
     "execution_count": 198,
     "metadata": {},
     "output_type": "execute_result"
    }
   ],
   "source": [
    "#Important negative words\n",
    "tfidf_imp_neg_words = np.take(tfidf_model.get_feature_names(),getnegWords(neg_imp_words))\n",
    "tfidf_imp_neg_words"
   ]
  },
  {
   "cell_type": "markdown",
   "metadata": {},
   "source": [
    "### 4.Using L1 Regularizer and checking how sparsity changes with lambda"
   ]
  },
  {
   "cell_type": "code",
   "execution_count": 172,
   "metadata": {},
   "outputs": [
    {
     "data": {
      "text/plain": [
       "1080"
      ]
     },
     "execution_count": 172,
     "metadata": {},
     "output_type": "execute_result"
    }
   ],
   "source": [
    "lr_tfidf_l1 = LogisticRegression(C=10,penalty='l1')\n",
    "lr_tfidf_l1.fit(tfidf_train_data,balanced_train_label)\n",
    "tfidf_coef = lr_tfidf_l1.coef_\n",
    "np.count_nonzero(tfidf_coef)"
   ]
  },
  {
   "cell_type": "code",
   "execution_count": 173,
   "metadata": {},
   "outputs": [
    {
     "data": {
      "text/plain": [
       "169"
      ]
     },
     "execution_count": 173,
     "metadata": {},
     "output_type": "execute_result"
    }
   ],
   "source": [
    "lr_tfidf_l1 = LogisticRegression(C=1,penalty='l1')\n",
    "lr_tfidf_l1.fit(tfidf_train_data,balanced_train_label)\n",
    "tfidf_coef = lr_tfidf_l1.coef_\n",
    "np.count_nonzero(tfidf_coef)"
   ]
  },
  {
   "cell_type": "code",
   "execution_count": 174,
   "metadata": {},
   "outputs": [
    {
     "data": {
      "text/plain": [
       "2"
      ]
     },
     "execution_count": 174,
     "metadata": {},
     "output_type": "execute_result"
    }
   ],
   "source": [
    "lr_tfidf_l1 = LogisticRegression(C=0.1,penalty='l1')\n",
    "lr_tfidf_l1.fit(tfidf_train_data,balanced_train_label)\n",
    "tfidf_coef = lr_tfidf_l1.coef_\n",
    "np.count_nonzero(tfidf_coef)"
   ]
  },
  {
   "cell_type": "markdown",
   "metadata": {},
   "source": [
    "### Conclusion: As lambda increases or C decreases the Sparsity increases"
   ]
  },
  {
   "cell_type": "markdown",
   "metadata": {},
   "source": [
    "### 5.RandomizedSearchCV with TFIDF "
   ]
  },
  {
   "cell_type": "code",
   "execution_count": 48,
   "metadata": {},
   "outputs": [],
   "source": [
    "rand_params = {'C':np.random.uniform(0,100,50)}\n",
    "clf_rand_tfidf = RandomizedSearchCV(lr_model,rand_params)"
   ]
  },
  {
   "cell_type": "code",
   "execution_count": 49,
   "metadata": {},
   "outputs": [
    {
     "data": {
      "text/plain": [
       "RandomizedSearchCV(cv=None, error_score='raise',\n",
       "          estimator=LogisticRegression(C=1.0, class_weight=None, dual=False, fit_intercept=True,\n",
       "          intercept_scaling=1, max_iter=100, multi_class='ovr', n_jobs=1,\n",
       "          penalty='l2', random_state=None, solver='liblinear', tol=0.0001,\n",
       "          verbose=0, warm_start=False),\n",
       "          fit_params=None, iid=True, n_iter=10, n_jobs=1,\n",
       "          param_distributions={'C': array([82.74266, 97.09644, 97.61292, 75.11968, 29.74305, 96.90174,\n",
       "       86.9722 , 33.06415, 40.65171, 93.13221, 35.72732, 70.9505 ,\n",
       "       10.10757, 11.50923, 41.23413, 11.72254, 33.49817, 11.25884,\n",
       "        3.79745, 77.0401 ,  7.80806, 81.8989 , 75.2715 , 91.59192,\n",
       "      ...182,\n",
       "       51.16344, 85.53229, 99.493  , 42.52082, 69.95143, 18.61137,\n",
       "       12.57821, 30.07622])},\n",
       "          pre_dispatch='2*n_jobs', random_state=None, refit=True,\n",
       "          return_train_score='warn', scoring=None, verbose=0)"
      ]
     },
     "execution_count": 49,
     "metadata": {},
     "output_type": "execute_result"
    }
   ],
   "source": [
    "clf_rand_tfidf.fit(tfidf_train_data,balanced_train_label)"
   ]
  },
  {
   "cell_type": "code",
   "execution_count": 50,
   "metadata": {},
   "outputs": [
    {
     "data": {
      "text/plain": [
       "{'C': 12.584868473775368}"
      ]
     },
     "execution_count": 50,
     "metadata": {},
     "output_type": "execute_result"
    }
   ],
   "source": [
    "clf_rand_tfidf.best_params_"
   ]
  },
  {
   "cell_type": "code",
   "execution_count": 51,
   "metadata": {},
   "outputs": [],
   "source": [
    "mean_test_scores_tf = clf_rand_tfidf.cv_results_['mean_test_score']"
   ]
  },
  {
   "cell_type": "code",
   "execution_count": 52,
   "metadata": {},
   "outputs": [
    {
     "data": {
      "text/plain": [
       "10"
      ]
     },
     "execution_count": 52,
     "metadata": {},
     "output_type": "execute_result"
    }
   ],
   "source": [
    "MSE = 1-mean_test_scores_tf\n",
    "len(MSE)"
   ]
  },
  {
   "cell_type": "code",
   "execution_count": 53,
   "metadata": {},
   "outputs": [],
   "source": [
    "rand_par = clf_rand_tfidf.cv_results_['params']\n",
    "rand_par = [i['C'] for i in rand_par]"
   ]
  },
  {
   "cell_type": "code",
   "execution_count": 54,
   "metadata": {},
   "outputs": [
    {
     "data": {
      "image/png": "[encoded data removed]",
      "text/plain": [
       "<Figure size 432x288 with 1 Axes>"
      ]
     },
     "metadata": {},
     "output_type": "display_data"
    }
   ],
   "source": [
    "#Showing the error plot for test data\n",
    "dumm_points = list(range(0,10))\n",
    "plt.scatter(dumm_points,MSE)\n",
    "param_str = [str(i) for i in rand_par]\n",
    "plt.xlabel('C values')\n",
    "plt.title('Error Graph')\n",
    "plt.xticks(range(0,10),param_str,size='small',rotation='45')\n",
    "plt.ylabel('MSE')\n",
    "plt.show()"
   ]
  },
  {
   "cell_type": "code",
   "execution_count": 55,
   "metadata": {},
   "outputs": [],
   "source": [
    "#Training the model with best C\n",
    "lr_tfidf_rand = LogisticRegression(C= 4.159721219583057,penalty='l2')\n",
    "lr_tfidf_rand.fit(tfidf_train_data,balanced_train_label)\n",
    "tfidf_lr_rand_labels = lr_tfidf_rand.predict(tfidf_test_data)"
   ]
  },
  {
   "cell_type": "code",
   "execution_count": 56,
   "metadata": {},
   "outputs": [
    {
     "name": "stdout",
     "output_type": "stream",
     "text": [
      "The accuracy with TFIDF vectorizer on test data is ----> 92.19000000000001\n"
     ]
    }
   ],
   "source": [
    "#Finding the accuracy score with test data\n",
    "score_tfidf_rand_test = accuracy_score(balanced_test_label,tfidf_lr_rand_labels)*float(100)\n",
    "print(\"The accuracy with TFIDF vectorizer on test data is ----> \"+str(score_tfidf_rand_test))"
   ]
  },
  {
   "cell_type": "code",
   "execution_count": 57,
   "metadata": {},
   "outputs": [
    {
     "name": "stdout",
     "output_type": "stream",
     "text": [
      "The accuracy with TFIDF vectorizer on train data is ----> 94.91857142857143\n"
     ]
    }
   ],
   "source": [
    "#Finding the accuracy score with train data\n",
    "tfidf_lr_rand_labels_train = lr_tfidf_rand.predict(tfidf_train_data)\n",
    "score_tfidf_rand_train = accuracy_score(balanced_train_label,tfidf_lr_rand_labels_train)*float(100)\n",
    "print(\"The accuracy with TFIDF vectorizer on train data is ----> \"+str(score_tfidf_rand_train))"
   ]
  },
  {
   "cell_type": "code",
   "execution_count": 58,
   "metadata": {},
   "outputs": [
    {
     "data": {
      "image/png": "[encoded data removed]",
      "text/plain": [
       "<Figure size 432x288 with 2 Axes>"
      ]
     },
     "metadata": {},
     "output_type": "display_data"
    }
   ],
   "source": [
    "#Building the Confustion matrix\n",
    "from sklearn.metrics import confusion_matrix\n",
    "import seaborn as sns\n",
    "cnf_tfidf_rand = confusion_matrix(balanced_test_label,tfidf_lr_rand_labels)\n",
    "sns.heatmap(cnf_tfidf_rand,cmap=plt.cm.gray,annot=True,fmt='.1f')\n",
    "plt.xlabel('Predicted Values')\n",
    "plt.ylabel('Actual Values')\n",
    "plt.title('Confustion matrix')\n",
    "plt.show()"
   ]
  },
  {
   "cell_type": "code",
   "execution_count": 59,
   "metadata": {},
   "outputs": [
    {
     "name": "stdout",
     "output_type": "stream",
     "text": [
      "The TNR for TFIDF is 2339\n",
      "The FPR for TFIDF is 1763\n",
      "The FNR for TFIDF is 580\n",
      "The TPR for TFIDF is 25318\n"
     ]
    }
   ],
   "source": [
    "#Finding the tnr,fpr,fnr,tpr\n",
    "tnr_tfidf_rand = cnf_tfidf_rand[0,0] \n",
    "fpr_tfidf_rand = cnf_tfidf_rand[0,1] \n",
    "fnr_tfidf_rand = cnf_tfidf_rand[1,0] \n",
    "tpr_tfidf_rand = cnf_tfidf_rand[1,1] \n",
    "print('The TNR for TFIDF is '+str(tnr_tfidf_rand))\n",
    "print('The FPR for TFIDF is '+str(fpr_tfidf_rand))\n",
    "print('The FNR for TFIDF is '+str(fnr_tfidf_rand))\n",
    "print('The TPR for TFIDF is '+str(tpr_tfidf_rand))"
   ]
  },
  {
   "cell_type": "code",
   "execution_count": 60,
   "metadata": {},
   "outputs": [
    {
     "name": "stdout",
     "output_type": "stream",
     "text": [
      "The precision of TFIDF is 0.9348990066836528\n",
      "The recall of TFIDF is 0.9776044482199397\n"
     ]
    }
   ],
   "source": [
    "#Finding Precision and Recall\n",
    "precision_tfidf_rand = tpr_tfidf_rand/(tpr_tfidf_rand+fpr_tfidf_rand)\n",
    "recall_tfidf_rand = tpr_tfidf_rand/(tpr_tfidf_rand+fnr_tfidf_rand)\n",
    "print(\"The precision of TFIDF is \"+str(precision_tfidf_rand))\n",
    "print(\"The recall of TFIDF is \"+str(recall_tfidf_rand))"
   ]
  },
  {
   "cell_type": "code",
   "execution_count": 61,
   "metadata": {},
   "outputs": [
    {
     "name": "stdout",
     "output_type": "stream",
     "text": [
      "The F1 score of TFIDF Word2Vec is 0.955774929689122\n"
     ]
    }
   ],
   "source": [
    "#Finding the F1 Score\n",
    "f1_tfidf_rand = (2*precision_tfidf_rand*recall_tfidf_rand)/(precision_tfidf_rand+recall_tfidf_rand)\n",
    "print(\"The F1 score of TFIDF Word2Vec is \"+str(f1_tfidf_rand))"
   ]
  },
  {
   "cell_type": "markdown",
   "metadata": {},
   "source": [
    "# Conclusion\n",
    "### 1. RandomizedSearchCV provided a better C value which have a better accuracy\n",
    "### 2. There is no multicollinearity between the features as per pertubation test"
   ]
  },
  {
   "cell_type": "markdown",
   "metadata": {},
   "source": [
    "# Word2Vec"
   ]
  },
  {
   "cell_type": "code",
   "execution_count": 62,
   "metadata": {},
   "outputs": [],
   "source": [
    "import re\n",
    "#Removing Html tags\n",
    "def cleanHtml(sentence):\n",
    "    cleanText = re.sub('<.*?>','',sentence)\n",
    "    return cleanText\n",
    "#Removing Punctuations\n",
    "def cleanPunc(word):\n",
    "    cleaned = re.sub(r'[#|!|?|\\'|@|\"]','',word)\n",
    "    cleaned = re.sub(r'[,|.|(|)|\\|/]',' ',word)\n",
    "    return cleaned"
   ]
  },
  {
   "cell_type": "code",
   "execution_count": 63,
   "metadata": {},
   "outputs": [],
   "source": [
    "#Retrieving 8000 data points from the sorted data\n",
    "train_test_data = balanced_sorted_data.iloc[:100000]"
   ]
  },
  {
   "cell_type": "code",
   "execution_count": 64,
   "metadata": {},
   "outputs": [
    {
     "name": "stderr",
     "output_type": "stream",
     "text": [
      "F:\\Anaconda\\lib\\site-packages\\gensim\\utils.py:1197: UserWarning: detected Windows; aliasing chunkize to chunkize_serial\n",
      "  warnings.warn(\"detected Windows; aliasing chunkize to chunkize_serial\")\n"
     ]
    }
   ],
   "source": [
    "#Filtering the sentences for using in word2vec\n",
    "from gensim.models import Word2Vec\n",
    "final_sentences = []\n",
    "for sentence in train_test_data.Text.values:    \n",
    "    sent = cleanHtml(sentence)       #Cleaning the html tags from the sentences\n",
    "    filtered_sentence = []           #The filtered sentences to be stored in this list\n",
    "    for word in sent.split():    #Looping through each word\n",
    "        for cleaned_word in cleanPunc(word).split():   #Cleaning the punctuations from each word\n",
    "            if(cleaned_word.isalpha()):              \n",
    "                filtered_sentence.append(cleaned_word.lower())   #Converting the cleaned word to lowercase\n",
    "            else:\n",
    "                continue\n",
    "    final_sentences.append(filtered_sentence)      #Inserting each filtered sentence to the final list"
   ]
  },
  {
   "cell_type": "code",
   "execution_count": 65,
   "metadata": {},
   "outputs": [
    {
     "data": {
      "text/plain": [
       "100000"
      ]
     },
     "execution_count": 65,
     "metadata": {},
     "output_type": "execute_result"
    }
   ],
   "source": [
    "len(final_sentences)"
   ]
  },
  {
   "cell_type": "code",
   "execution_count": 66,
   "metadata": {},
   "outputs": [],
   "source": [
    "#Training the Word2Vec model\n",
    "train_sentences = final_sentences[:70000]\n",
    "w2v_model = Word2Vec(train_sentences,size=50,workers = 4)"
   ]
  },
  {
   "cell_type": "code",
   "execution_count": 67,
   "metadata": {},
   "outputs": [
    {
     "data": {
      "text/plain": [
       "15511"
      ]
     },
     "execution_count": 67,
     "metadata": {},
     "output_type": "execute_result"
    }
   ],
   "source": [
    "words = set(w2v_model.wv.vocab)\n",
    "len(words)"
   ]
  },
  {
   "cell_type": "markdown",
   "metadata": {},
   "source": [
    "# Average Wod2Vec"
   ]
  },
  {
   "cell_type": "code",
   "execution_count": 68,
   "metadata": {},
   "outputs": [],
   "source": [
    "#Building model for average word2vec\n",
    "sent_vectors = []\n",
    "for sentence in final_sentences:    \n",
    "    sentence_vectors = np.zeros(50)    #Building word vectors and initializing with 0\n",
    "    count = 0   #Counting the total number of words in the sentence\n",
    "    for word in sentence:\n",
    "        try:\n",
    "            count+=1           \n",
    "            w2v = w2v_model.wv[word]    #Appling word2vec for each word\n",
    "            sentence_vectors+=w2v        #Adding word2vec of each word to sentence vectors\n",
    "        except:\n",
    "            pass\n",
    "    sentence_vectors/=count            #Computing average word2vec\n",
    "    sent_vectors.append(sentence_vectors)"
   ]
  },
  {
   "cell_type": "code",
   "execution_count": 69,
   "metadata": {},
   "outputs": [
    {
     "data": {
      "text/plain": [
       "(100000, 50)"
      ]
     },
     "execution_count": 69,
     "metadata": {},
     "output_type": "execute_result"
    }
   ],
   "source": [
    "sent_vectors_df = pd.DataFrame(sent_vectors)\n",
    "sent_vectors_df.shape"
   ]
  },
  {
   "cell_type": "code",
   "execution_count": 70,
   "metadata": {},
   "outputs": [
    {
     "name": "stdout",
     "output_type": "stream",
     "text": [
      "(70000, 50)\n"
     ]
    },
    {
     "data": {
      "text/plain": [
       "(30000, 50)"
      ]
     },
     "execution_count": 70,
     "metadata": {},
     "output_type": "execute_result"
    }
   ],
   "source": [
    "#Building 70% and 30% train and test data\n",
    "avgw2v_train_data = sent_vectors_df.iloc[:70000]\n",
    "avgw2v_test_data = sent_vectors_df.iloc[70000:100000]\n",
    "print(avgw2v_train_data.shape)\n",
    "avgw2v_test_data.shape"
   ]
  },
  {
   "cell_type": "markdown",
   "metadata": {},
   "source": [
    "### 1. Applying Average Word2Vec with GridSearchCV & L2 Regularizer"
   ]
  },
  {
   "cell_type": "code",
   "execution_count": 71,
   "metadata": {},
   "outputs": [],
   "source": [
    "from sklearn.linear_model import LogisticRegression\n",
    "from sklearn.model_selection import GridSearchCV\n",
    "lr_model = LogisticRegression()\n",
    "param_w2v = {'C':[10**(-3),10**(-2),10**(-1),10**(0),10**(1),10**(2),10**(3)]}\n",
    "grid_clf_w2v = GridSearchCV(lr_model,param_w2v,scoring='accuracy')"
   ]
  },
  {
   "cell_type": "code",
   "execution_count": 72,
   "metadata": {},
   "outputs": [
    {
     "data": {
      "text/plain": [
       "GridSearchCV(cv=None, error_score='raise',\n",
       "       estimator=LogisticRegression(C=1.0, class_weight=None, dual=False, fit_intercept=True,\n",
       "          intercept_scaling=1, max_iter=100, multi_class='ovr', n_jobs=1,\n",
       "          penalty='l2', random_state=None, solver='liblinear', tol=0.0001,\n",
       "          verbose=0, warm_start=False),\n",
       "       fit_params=None, iid=True, n_jobs=1,\n",
       "       param_grid={'C': [0.001, 0.01, 0.1, 1, 10, 100, 1000]},\n",
       "       pre_dispatch='2*n_jobs', refit=True, return_train_score='warn',\n",
       "       scoring='accuracy', verbose=0)"
      ]
     },
     "execution_count": 72,
     "metadata": {},
     "output_type": "execute_result"
    }
   ],
   "source": [
    "#Fitting the GridSearchCV to find the best params\n",
    "grid_clf_w2v.fit(avgw2v_train_data,balanced_train_label)"
   ]
  },
  {
   "cell_type": "code",
   "execution_count": 73,
   "metadata": {},
   "outputs": [
    {
     "data": {
      "text/plain": [
       "{'C': 100}"
      ]
     },
     "execution_count": 73,
     "metadata": {},
     "output_type": "execute_result"
    }
   ],
   "source": [
    "grid_clf_w2v.best_params_"
   ]
  },
  {
   "cell_type": "code",
   "execution_count": 74,
   "metadata": {},
   "outputs": [],
   "source": [
    "mean_test_scores_tf = grid_clf_w2v.cv_results_['mean_test_score']\n",
    "MSE = 1-mean_test_scores_tf"
   ]
  },
  {
   "cell_type": "code",
   "execution_count": 75,
   "metadata": {},
   "outputs": [
    {
     "data": {
      "image/png": "[encoded data removed]",
      "text/plain": [
       "<Figure size 432x288 with 1 Axes>"
      ]
     },
     "metadata": {},
     "output_type": "display_data"
    }
   ],
   "source": [
    "#Showing the error plot for test data\n",
    "dumm_points = list(range(0,7))\n",
    "plt.scatter(dumm_points,MSE)\n",
    "param_str = [str(i) for i in param_w2v['C']]\n",
    "plt.xlabel('C values')\n",
    "plt.title('Error Graph')\n",
    "plt.xticks(range(0,7),param_str,size='small',rotation='45')\n",
    "plt.ylabel('MSE')\n",
    "plt.show()"
   ]
  },
  {
   "cell_type": "code",
   "execution_count": 76,
   "metadata": {},
   "outputs": [],
   "source": [
    "#Building the model with optimal C\n",
    "avgw2v_lr_model_grid = LogisticRegression(C=100,penalty='l2')\n",
    "avgw2v_lr_model_grid.fit(avgw2v_train_data,balanced_train_label)\n",
    "avgw2v_lr_model_label = avgw2v_lr_model_grid.predict(avgw2v_test_data)"
   ]
  },
  {
   "cell_type": "code",
   "execution_count": 77,
   "metadata": {},
   "outputs": [
    {
     "name": "stdout",
     "output_type": "stream",
     "text": [
      "The accuracy for test data with Average Word2Vec model is ----> 88.4\n"
     ]
    }
   ],
   "source": [
    "#Calculating the accuracy for the test data\n",
    "from sklearn.metrics import accuracy_score\n",
    "score_avgw2v_test = accuracy_score(balanced_test_label,avgw2v_lr_model_label)*float(100)\n",
    "print(\"The accuracy for test data with Average Word2Vec model is ----> \"+str(score_avgw2v_test))"
   ]
  },
  {
   "cell_type": "code",
   "execution_count": 78,
   "metadata": {},
   "outputs": [
    {
     "name": "stdout",
     "output_type": "stream",
     "text": [
      "The accuracy for train data with Average Word2Vec model is ----> 89.91285714285713\n"
     ]
    }
   ],
   "source": [
    "#Calculating accuracy for train data\n",
    "avgw2v_lr_model_label_train = avgw2v_lr_model_grid.predict(avgw2v_train_data)\n",
    "score_avgw2v_train = accuracy_score(balanced_train_label,avgw2v_lr_model_label_train)*float(100)\n",
    "print(\"The accuracy for train data with Average Word2Vec model is ----> \"+str(score_avgw2v_train))"
   ]
  },
  {
   "cell_type": "markdown",
   "metadata": {},
   "source": [
    "### 2.Using L1 Regularizer and checking how sparsity changes with lambda"
   ]
  },
  {
   "cell_type": "code",
   "execution_count": 88,
   "metadata": {},
   "outputs": [
    {
     "data": {
      "text/plain": [
       "49"
      ]
     },
     "execution_count": 88,
     "metadata": {},
     "output_type": "execute_result"
    }
   ],
   "source": [
    "lr_model_l1 = LogisticRegression(C=100,penalty='l1')\n",
    "lr_model_l1.fit(avgw2v_train_data,balanced_train_label)\n",
    "sparse_coef = lr_model_l1.coef_\n",
    "np.count_nonzero(sparse_coef)"
   ]
  },
  {
   "cell_type": "code",
   "execution_count": 89,
   "metadata": {},
   "outputs": [
    {
     "data": {
      "text/plain": [
       "48"
      ]
     },
     "execution_count": 89,
     "metadata": {},
     "output_type": "execute_result"
    }
   ],
   "source": [
    "lr_model_l1 = LogisticRegression(C=10,penalty='l1')\n",
    "lr_model_l1.fit(avgw2v_train_data,balanced_train_label)\n",
    "sparse_coef = lr_model_l1.coef_\n",
    "np.count_nonzero(sparse_coef)"
   ]
  },
  {
   "cell_type": "code",
   "execution_count": 90,
   "metadata": {},
   "outputs": [
    {
     "data": {
      "text/plain": [
       "27"
      ]
     },
     "execution_count": 90,
     "metadata": {},
     "output_type": "execute_result"
    }
   ],
   "source": [
    "lr_model_l1 = LogisticRegression(C=1,penalty='l1')\n",
    "lr_model_l1.fit(avgw2v_train_data,balanced_train_label)\n",
    "sparse_coef = lr_model_l1.coef_\n",
    "np.count_nonzero(sparse_coef)"
   ]
  },
  {
   "cell_type": "code",
   "execution_count": 91,
   "metadata": {},
   "outputs": [
    {
     "data": {
      "text/plain": [
       "8"
      ]
     },
     "execution_count": 91,
     "metadata": {},
     "output_type": "execute_result"
    }
   ],
   "source": [
    "lr_model_l1 = LogisticRegression(C=0.1,penalty='l1')\n",
    "lr_model_l1.fit(avgw2v_train_data,balanced_train_label)\n",
    "sparse_coef = lr_model_l1.coef_\n",
    "np.count_nonzero(sparse_coef)"
   ]
  },
  {
   "cell_type": "markdown",
   "metadata": {},
   "source": [
    "### Conclusion: As lambda increases or C decreases the Sparsity increases"
   ]
  },
  {
   "cell_type": "markdown",
   "metadata": {},
   "source": [
    "### 3.RandomizedSearchCV with Average Word2Vec"
   ]
  },
  {
   "cell_type": "code",
   "execution_count": 79,
   "metadata": {},
   "outputs": [],
   "source": [
    "from sklearn.model_selection import RandomizedSearchCV\n",
    "lr_model_rand = LogisticRegression()\n",
    "param_rand = {\"C\":np.random.uniform(10,1000,50)}\n",
    "random_clf = RandomizedSearchCV(lr_model_rand,param_rand,scoring='accuracy')"
   ]
  },
  {
   "cell_type": "code",
   "execution_count": 80,
   "metadata": {},
   "outputs": [
    {
     "data": {
      "text/plain": [
       "RandomizedSearchCV(cv=None, error_score='raise',\n",
       "          estimator=LogisticRegression(C=1.0, class_weight=None, dual=False, fit_intercept=True,\n",
       "          intercept_scaling=1, max_iter=100, multi_class='ovr', n_jobs=1,\n",
       "          penalty='l2', random_state=None, solver='liblinear', tol=0.0001,\n",
       "          verbose=0, warm_start=False),\n",
       "          fit_params=None, iid=True, n_iter=10, n_jobs=1,\n",
       "          param_distributions={'C': array([480.69177, 604.99881, 520.64279, 497.81827, 607.404  , 513.82529,\n",
       "       420.23901, 829.85908, 518.33262, 345.11474, 227.15298, 701.47697,\n",
       "       373.17812, 548.12143, 725.43937, 814.35234, 781.47587, 247.42879,\n",
       "       882.81459, 881.07749, 823.26149, 228.4444 , 889....    941.34589, 747.32002, 835.83886, 757.31158, 823.59916, 503.92152,\n",
       "       986.30968, 936.88817])},\n",
       "          pre_dispatch='2*n_jobs', random_state=None, refit=True,\n",
       "          return_train_score='warn', scoring='accuracy', verbose=0)"
      ]
     },
     "execution_count": 80,
     "metadata": {},
     "output_type": "execute_result"
    }
   ],
   "source": [
    "random_clf.fit(avgw2v_train_data,balanced_train_label)"
   ]
  },
  {
   "cell_type": "code",
   "execution_count": 81,
   "metadata": {},
   "outputs": [
    {
     "data": {
      "text/plain": [
       "{'C': 700.764153937091}"
      ]
     },
     "execution_count": 81,
     "metadata": {},
     "output_type": "execute_result"
    }
   ],
   "source": [
    "random_clf.best_params_"
   ]
  },
  {
   "cell_type": "code",
   "execution_count": 82,
   "metadata": {},
   "outputs": [
    {
     "data": {
      "text/plain": [
       "10"
      ]
     },
     "execution_count": 82,
     "metadata": {},
     "output_type": "execute_result"
    }
   ],
   "source": [
    "mean_test_scores_tf = random_clf.cv_results_['mean_test_score']\n",
    "MSE = 1-mean_test_scores_tf\n",
    "len(MSE)"
   ]
  },
  {
   "cell_type": "code",
   "execution_count": 83,
   "metadata": {},
   "outputs": [],
   "source": [
    "rand_par = random_clf.cv_results_['params']\n",
    "rand_par = [i['C'] for i in rand_par]"
   ]
  },
  {
   "cell_type": "code",
   "execution_count": 84,
   "metadata": {},
   "outputs": [
    {
     "data": {
      "image/png": "[encoded data removed]",
      "text/plain": [
       "<Figure size 432x288 with 1 Axes>"
      ]
     },
     "metadata": {},
     "output_type": "display_data"
    }
   ],
   "source": [
    "#Showing the error plot for test data\n",
    "dumm_points = list(range(0,10))\n",
    "plt.scatter(dumm_points,MSE)\n",
    "param_str = [str(i) for i in rand_par]\n",
    "plt.xlabel('C values')\n",
    "plt.title('Error Graph')\n",
    "plt.xticks(range(0,10),param_str,size='small',rotation='45')\n",
    "plt.ylabel('MSE')\n",
    "plt.show()"
   ]
  },
  {
   "cell_type": "code",
   "execution_count": 85,
   "metadata": {},
   "outputs": [],
   "source": [
    "#Building the model with optimal C\n",
    "avgw2v_lr_model_rand = LogisticRegression(C=562.1450405861694, penalty='l2')\n",
    "avgw2v_lr_model_rand.fit(avgw2v_train_data,balanced_train_label)\n",
    "avgw2v_lr_model_rand_label = avgw2v_lr_model_rand.predict(avgw2v_test_data)"
   ]
  },
  {
   "cell_type": "code",
   "execution_count": 86,
   "metadata": {},
   "outputs": [
    {
     "name": "stdout",
     "output_type": "stream",
     "text": [
      "The accuracy for test data with Average Word2Vec model is ----> 88.39666666666666\n"
     ]
    }
   ],
   "source": [
    "score_avgw2v_rand_test = accuracy_score(balanced_test_label,avgw2v_lr_model_rand_label)*float(100)\n",
    "print(\"The accuracy for test data with Average Word2Vec model is ----> \"+str(score_avgw2v_rand_test))"
   ]
  },
  {
   "cell_type": "code",
   "execution_count": 87,
   "metadata": {},
   "outputs": [
    {
     "name": "stdout",
     "output_type": "stream",
     "text": [
      "The accuracy for train data with Average Word2Vec model is ----> 89.91\n"
     ]
    }
   ],
   "source": [
    "#Calculating accuracy for train data\n",
    "avgw2v_lr_model_rand_label_train = avgw2v_lr_model_rand.predict(avgw2v_train_data)\n",
    "score_avgw2v_rand_train = accuracy_score(balanced_train_label,avgw2v_lr_model_rand_label_train)*float(100)\n",
    "print(\"The accuracy for train data with Average Word2Vec model is ----> \"+str(score_avgw2v_rand_train))"
   ]
  },
  {
   "cell_type": "code",
   "execution_count": 88,
   "metadata": {},
   "outputs": [
    {
     "data": {
      "image/png": "[encoded data removed]",
      "text/plain": [
       "<Figure size 432x288 with 2 Axes>"
      ]
     },
     "metadata": {},
     "output_type": "display_data"
    }
   ],
   "source": [
    "#Building the Confustion matrix\n",
    "from sklearn.metrics import confusion_matrix\n",
    "import seaborn as sns\n",
    "cnf_avgw2v_rand = confusion_matrix(balanced_test_label,avgw2v_lr_model_rand_label)\n",
    "sns.heatmap(cnf_avgw2v_rand,cmap=plt.cm.gray,annot=True,fmt='.1f')\n",
    "plt.xlabel('Predicted Values')\n",
    "plt.ylabel('Actual Values')\n",
    "plt.title('Confustion matrix')\n",
    "plt.show()"
   ]
  },
  {
   "cell_type": "code",
   "execution_count": 89,
   "metadata": {},
   "outputs": [
    {
     "name": "stdout",
     "output_type": "stream",
     "text": [
      "The TNR for Average Word2vec is 1229\n",
      "The FPR for Average Word2vec is 2873\n",
      "The FNR for Average Word2vec is 608\n",
      "The TPR for Average Word2vec is 25290\n"
     ]
    }
   ],
   "source": [
    "#Finding the tnr,fpr,fnr,tpr\n",
    "tnr_avgw2v_rand = cnf_avgw2v_rand[0,0] \n",
    "fpr_avgw2v_rand = cnf_avgw2v_rand[0,1] \n",
    "fnr_avgw2v_rand = cnf_avgw2v_rand[1,0] \n",
    "tpr_avgw2v_rand = cnf_avgw2v_rand[1,1] \n",
    "print('The TNR for Average Word2vec is '+str(tnr_avgw2v_rand))\n",
    "print('The FPR for Average Word2vec is '+str(fpr_avgw2v_rand))\n",
    "print('The FNR for Average Word2vec is '+str(fnr_avgw2v_rand))\n",
    "print('The TPR for Average Word2vec is '+str(tpr_avgw2v_rand))"
   ]
  },
  {
   "cell_type": "code",
   "execution_count": 90,
   "metadata": {},
   "outputs": [
    {
     "name": "stdout",
     "output_type": "stream",
     "text": [
      "The precision of Average Word2Vec is 0.8979867201647552\n",
      "The recall of Average Word2Vec is 0.9765232836512472\n"
     ]
    }
   ],
   "source": [
    "#Finding Precision and Recall\n",
    "precision_avgw2v_rand = tpr_avgw2v_rand/(tpr_avgw2v_rand+fpr_avgw2v_rand)\n",
    "recall_avgw2v_rand = tpr_avgw2v_rand/(tpr_avgw2v_rand+fnr_avgw2v_rand)\n",
    "print(\"The precision of Average Word2Vec is \"+str(precision_avgw2v_rand))\n",
    "print(\"The recall of Average Word2Vec is \"+str(recall_avgw2v_rand))"
   ]
  },
  {
   "cell_type": "code",
   "execution_count": 91,
   "metadata": {},
   "outputs": [
    {
     "name": "stdout",
     "output_type": "stream",
     "text": [
      "The F1 score of Average Word2Vec is 0.9356097741440225\n"
     ]
    }
   ],
   "source": [
    "#Finding the F1 Score\n",
    "f1_avgw2v_rand = (2*precision_avgw2v_rand*recall_avgw2v_rand)/(precision_avgw2v_rand+recall_avgw2v_rand)\n",
    "print(\"The F1 score of Average Word2Vec is \"+str(f1_avgw2v_rand))"
   ]
  },
  {
   "cell_type": "markdown",
   "metadata": {},
   "source": [
    "# Conclusion\n",
    "###  GridSearchCV provided a better C value which have a better accuracy\n"
   ]
  },
  {
   "cell_type": "markdown",
   "metadata": {},
   "source": [
    "# TFIDF Weighted Word2Vec"
   ]
  },
  {
   "cell_type": "code",
   "execution_count": 92,
   "metadata": {},
   "outputs": [],
   "source": [
    "#Taking 10k data points\n",
    "train_data = balanced_sorted_data.iloc[:7000]\n",
    "train_test_data = balanced_sorted_data.iloc[:10000]\n",
    "fin_sentences = final_sentences[:10000]"
   ]
  },
  {
   "cell_type": "code",
   "execution_count": 93,
   "metadata": {},
   "outputs": [],
   "source": [
    "#Re-modeling TfidfVectorizer on train data\n",
    "from sklearn.feature_extraction.text import TfidfVectorizer\n",
    "tf_idf_model = TfidfVectorizer()   #Initilaizing the TfidfVectorizer  \n",
    "tf_idf_model_data = tf_idf_model.fit(train_data.Text.values)   #Training the vectorizer"
   ]
  },
  {
   "cell_type": "code",
   "execution_count": 94,
   "metadata": {},
   "outputs": [
    {
     "data": {
      "text/plain": [
       "(10000, 19568)"
      ]
     },
     "execution_count": 94,
     "metadata": {},
     "output_type": "execute_result"
    }
   ],
   "source": [
    "#Building the vectors for final data\n",
    "tf_idf_model_final = tf_idf_model.transform(train_test_data.Text.values)\n",
    "tf_idf_model_final.shape"
   ]
  },
  {
   "cell_type": "code",
   "execution_count": 95,
   "metadata": {},
   "outputs": [],
   "source": [
    "#Building the Weighted TFIDF W2V\n",
    "tf_features = tf_idf_model.get_feature_names()    #Retrieving the tfidf feature names\n",
    "weighted_sentences = [];\n",
    "row = 0;\n",
    "for sentence in fin_sentences:\n",
    "    sum_vector = np.zeros(50)     #Building word vectors and initializing with 0\n",
    "    weighted_sum = 0;             #Initializing the weighted sum to 0\n",
    "    for word in sentence:         #Looping through each word\n",
    "        try: \n",
    "            w2v = w2v_model.wv[word]         #Applying the word2vec model on each word\n",
    "            tf_idf = tf_idf_model_final[row,tf_features.index(word)]      #Retrieving the tfidf value for the corresponding word\n",
    "            sum_vector += (w2v*tf_idf)          #Computing tfidf weighted w2v\n",
    "            weighted_sum += tf_idf              #Computing the total tfidf weight\n",
    "        except:\n",
    "            pass\n",
    "    sum_vector/=weighted_sum              #Final tfidf weighted w2v\n",
    "    weighted_sentences.append(sum_vector)\n",
    "    row += 1 "
   ]
  },
  {
   "cell_type": "code",
   "execution_count": 96,
   "metadata": {},
   "outputs": [
    {
     "data": {
      "text/plain": [
       "(10000, 50)"
      ]
     },
     "execution_count": 96,
     "metadata": {},
     "output_type": "execute_result"
    }
   ],
   "source": [
    "#Converting the weighted sentences list to a DataFrame\n",
    "weighted_df = pd.DataFrame(weighted_sentences) \n",
    "weighted_df.shape"
   ]
  },
  {
   "cell_type": "code",
   "execution_count": 97,
   "metadata": {},
   "outputs": [
    {
     "name": "stdout",
     "output_type": "stream",
     "text": [
      "(7000, 50)\n"
     ]
    },
    {
     "data": {
      "text/plain": [
       "(3000, 50)"
      ]
     },
     "execution_count": 97,
     "metadata": {},
     "output_type": "execute_result"
    }
   ],
   "source": [
    "#Building 70% and 30% train-test data set\n",
    "tfidfw2v_train_data = weighted_df.iloc[0:7000,:]\n",
    "tfidfw2v_test_data = weighted_df.iloc[7000:10000]\n",
    "print(tfidfw2v_train_data.shape)\n",
    "tfidfw2v_test_data.shape"
   ]
  },
  {
   "cell_type": "markdown",
   "metadata": {},
   "source": [
    "### 1. Applying TFIDF Word2Vec with GridSearchCV & L2 Regularizer\n"
   ]
  },
  {
   "cell_type": "code",
   "execution_count": 98,
   "metadata": {},
   "outputs": [],
   "source": [
    "from sklearn.model_selection import GridSearchCV,RandomizedSearchCV\n",
    "lr_model = LogisticRegression()\n",
    "param_tfidf = {'C':[10**(-3),10**(-2),10**(-1),10**(0),10**(1),10**(2),10**(3),10**(4),10**(5)]}\n",
    "grid_clf_tfw2v = GridSearchCV(lr_model,param_tfidf,scoring='accuracy')"
   ]
  },
  {
   "cell_type": "code",
   "execution_count": 100,
   "metadata": {},
   "outputs": [
    {
     "data": {
      "text/plain": [
       "GridSearchCV(cv=None, error_score='raise',\n",
       "       estimator=LogisticRegression(C=1.0, class_weight=None, dual=False, fit_intercept=True,\n",
       "          intercept_scaling=1, max_iter=100, multi_class='ovr', n_jobs=1,\n",
       "          penalty='l2', random_state=None, solver='liblinear', tol=0.0001,\n",
       "          verbose=0, warm_start=False),\n",
       "       fit_params=None, iid=True, n_jobs=1,\n",
       "       param_grid={'C': [0.001, 0.01, 0.1, 1, 10, 100, 1000, 10000, 100000]},\n",
       "       pre_dispatch='2*n_jobs', refit=True, return_train_score='warn',\n",
       "       scoring='accuracy', verbose=0)"
      ]
     },
     "execution_count": 100,
     "metadata": {},
     "output_type": "execute_result"
    }
   ],
   "source": [
    "grid_clf_tfw2v.fit(tfidfw2v_train_data,balanced_train_label[:7000])"
   ]
  },
  {
   "cell_type": "code",
   "execution_count": 101,
   "metadata": {},
   "outputs": [
    {
     "data": {
      "text/plain": [
       "{'C': 1000}"
      ]
     },
     "execution_count": 101,
     "metadata": {},
     "output_type": "execute_result"
    }
   ],
   "source": [
    "grid_clf_tfw2v.best_params_"
   ]
  },
  {
   "cell_type": "code",
   "execution_count": 105,
   "metadata": {},
   "outputs": [
    {
     "data": {
      "text/plain": [
       "9"
      ]
     },
     "execution_count": 105,
     "metadata": {},
     "output_type": "execute_result"
    }
   ],
   "source": [
    "mean_test_scores_tf = grid_clf_tfw2v.cv_results_['mean_test_score']\n",
    "MSE = 1-mean_test_scores_tf"
   ]
  },
  {
   "cell_type": "code",
   "execution_count": 108,
   "metadata": {},
   "outputs": [
    {
     "data": {
      "image/png": "[encoded data removed]",
      "text/plain": [
       "<Figure size 432x288 with 1 Axes>"
      ]
     },
     "metadata": {},
     "output_type": "display_data"
    }
   ],
   "source": [
    "#Showing the error plot for test data\n",
    "dumm_points = list(range(0,9))\n",
    "plt.scatter(dumm_points,MSE)\n",
    "param_str = [str(i) for i in param_tfidf['C']]\n",
    "plt.xlabel('C values')\n",
    "plt.title('Error Graph')\n",
    "plt.xticks(range(0,9),param_str,size='small',rotation='45')\n",
    "plt.ylabel('MSE')\n",
    "plt.show()"
   ]
  },
  {
   "cell_type": "code",
   "execution_count": 112,
   "metadata": {},
   "outputs": [],
   "source": [
    "#Building the model with optimal C\n",
    "tfw2v_lr_model_grid = LogisticRegression(C=1000,penalty='l2')\n",
    "tfw2v_lr_model_grid.fit(tfidfw2v_train_data,balanced_train_label[:7000])\n",
    "tfw2v_lr_model_label = tfw2v_lr_model_grid.predict(tfidfw2v_test_data)"
   ]
  },
  {
   "cell_type": "code",
   "execution_count": 113,
   "metadata": {},
   "outputs": [
    {
     "name": "stdout",
     "output_type": "stream",
     "text": [
      "The accuracy for test data with TFIDF Weighted Word2Vec model is ----> 83.03333333333333\n"
     ]
    }
   ],
   "source": [
    "#Calculating the accuracy for the test data\n",
    "from sklearn.metrics import accuracy_score\n",
    "score_tfw2v_test = accuracy_score(balanced_test_label[:3000],tfw2v_lr_model_label)*float(100)\n",
    "print(\"The accuracy for test data with TFIDF Weighted Word2Vec model is ----> \"+str(score_tfw2v_test))"
   ]
  },
  {
   "cell_type": "code",
   "execution_count": 114,
   "metadata": {},
   "outputs": [
    {
     "name": "stdout",
     "output_type": "stream",
     "text": [
      "The accuracy for train data with TFIDF Weighted Word2Vec model is ----> 89.88571428571429\n"
     ]
    }
   ],
   "source": [
    "#Calculating the accuracy for the train data\n",
    "tfw2v_lr_model_label_train = tfw2v_lr_model_grid.predict(tfidfw2v_train_data)\n",
    "score_tfw2v_train = accuracy_score(balanced_train_label[:7000],tfw2v_lr_model_label_train)*float(100)\n",
    "print(\"The accuracy for train data with TFIDF Weighted Word2Vec model is ----> \"+str(score_tfw2v_train))"
   ]
  },
  {
   "cell_type": "markdown",
   "metadata": {},
   "source": [
    "### 2.Using L1 Regularizer and checking how sparsity changes with lambda\n"
   ]
  },
  {
   "cell_type": "code",
   "execution_count": 127,
   "metadata": {},
   "outputs": [
    {
     "data": {
      "text/plain": [
       "50"
      ]
     },
     "execution_count": 127,
     "metadata": {},
     "output_type": "execute_result"
    }
   ],
   "source": [
    "lr_model_l1 = LogisticRegression(C=10000,penalty='l1')\n",
    "lr_model_l1.fit(tfidfw2v_train_data,balanced_train_label)\n",
    "sparse_coef = lr_model_l1.coef_\n",
    "np.count_nonzero(sparse_coef)"
   ]
  },
  {
   "cell_type": "code",
   "execution_count": 130,
   "metadata": {},
   "outputs": [
    {
     "data": {
      "text/plain": [
       "45"
      ]
     },
     "execution_count": 130,
     "metadata": {},
     "output_type": "execute_result"
    }
   ],
   "source": [
    "lr_model_l1 = LogisticRegression(C=10,penalty='l1')\n",
    "lr_model_l1.fit(tfidfw2v_train_data,balanced_train_label)\n",
    "sparse_coef = lr_model_l1.coef_\n",
    "np.count_nonzero(sparse_coef)"
   ]
  },
  {
   "cell_type": "code",
   "execution_count": 131,
   "metadata": {},
   "outputs": [
    {
     "data": {
      "text/plain": [
       "28"
      ]
     },
     "execution_count": 131,
     "metadata": {},
     "output_type": "execute_result"
    }
   ],
   "source": [
    "lr_model_l1 = LogisticRegression(C=1,penalty='l1')\n",
    "lr_model_l1.fit(tfidfw2v_train_data,balanced_train_label)\n",
    "sparse_coef = lr_model_l1.coef_\n",
    "np.count_nonzero(sparse_coef)"
   ]
  },
  {
   "cell_type": "code",
   "execution_count": 132,
   "metadata": {},
   "outputs": [
    {
     "data": {
      "text/plain": [
       "12"
      ]
     },
     "execution_count": 132,
     "metadata": {},
     "output_type": "execute_result"
    }
   ],
   "source": [
    "lr_model_l1 = LogisticRegression(C=0.1,penalty='l1')\n",
    "lr_model_l1.fit(tfidfw2v_train_data,balanced_train_label)\n",
    "sparse_coef = lr_model_l1.coef_\n",
    "np.count_nonzero(sparse_coef)"
   ]
  },
  {
   "cell_type": "markdown",
   "metadata": {},
   "source": [
    "### Conclusion: As lambda increases or C decreases the Sparsity increases"
   ]
  },
  {
   "cell_type": "markdown",
   "metadata": {},
   "source": [
    "### 3.RandomizedSearchCV with TFIDF Word2Vec"
   ]
  },
  {
   "cell_type": "code",
   "execution_count": 115,
   "metadata": {},
   "outputs": [],
   "source": [
    "lr_model_rand = LogisticRegression()\n",
    "param_rand = {\"C\":np.random.uniform(10,100000,100)}\n",
    "random_clf = RandomizedSearchCV(lr_model_rand,param_rand,scoring='accuracy')"
   ]
  },
  {
   "cell_type": "code",
   "execution_count": 117,
   "metadata": {},
   "outputs": [
    {
     "data": {
      "text/plain": [
       "RandomizedSearchCV(cv=None, error_score='raise',\n",
       "          estimator=LogisticRegression(C=1.0, class_weight=None, dual=False, fit_intercept=True,\n",
       "          intercept_scaling=1, max_iter=100, multi_class='ovr', n_jobs=1,\n",
       "          penalty='l2', random_state=None, solver='liblinear', tol=0.0001,\n",
       "          verbose=0, warm_start=False),\n",
       "          fit_params=None, iid=True, n_iter=10, n_jobs=1,\n",
       "          param_distributions={'C': array([75272.55158, 92075.98033, ..., 80424.73204, 80622.38737])},\n",
       "          pre_dispatch='2*n_jobs', random_state=None, refit=True,\n",
       "          return_train_score='warn', scoring='accuracy', verbose=0)"
      ]
     },
     "execution_count": 117,
     "metadata": {},
     "output_type": "execute_result"
    }
   ],
   "source": [
    "random_clf.fit(tfidfw2v_train_data,balanced_train_label[:7000])"
   ]
  },
  {
   "cell_type": "code",
   "execution_count": 118,
   "metadata": {},
   "outputs": [
    {
     "data": {
      "text/plain": [
       "{'C': 38173.48159133787}"
      ]
     },
     "execution_count": 118,
     "metadata": {},
     "output_type": "execute_result"
    }
   ],
   "source": [
    "random_clf.best_params_"
   ]
  },
  {
   "cell_type": "code",
   "execution_count": 119,
   "metadata": {},
   "outputs": [
    {
     "data": {
      "text/plain": [
       "10"
      ]
     },
     "execution_count": 119,
     "metadata": {},
     "output_type": "execute_result"
    }
   ],
   "source": [
    "mean_test_scores_tf = random_clf.cv_results_['mean_test_score']\n",
    "MSE = 1-mean_test_scores_tf\n",
    "len(MSE)"
   ]
  },
  {
   "cell_type": "code",
   "execution_count": 120,
   "metadata": {},
   "outputs": [],
   "source": [
    "rand_par = random_clf.cv_results_['params']\n",
    "rand_par = [i['C'] for i in rand_par]"
   ]
  },
  {
   "cell_type": "code",
   "execution_count": 121,
   "metadata": {},
   "outputs": [
    {
     "data": {
      "image/png": "[encoded data removed]",
      "text/plain": [
       "<Figure size 432x288 with 1 Axes>"
      ]
     },
     "metadata": {},
     "output_type": "display_data"
    }
   ],
   "source": [
    "#Showing the error plot for test data\n",
    "dumm_points = list(range(0,10))\n",
    "plt.scatter(dumm_points,MSE)\n",
    "param_str = [str(i) for i in rand_par]\n",
    "plt.xlabel('C values')\n",
    "plt.title('Error Graph')\n",
    "plt.xticks(range(0,10),param_str,size='small',rotation='45')\n",
    "plt.ylabel('MSE')\n",
    "plt.show()"
   ]
  },
  {
   "cell_type": "code",
   "execution_count": 123,
   "metadata": {},
   "outputs": [],
   "source": [
    "#Building the model with optimal C\n",
    "tfw2v_lr_model_rand = LogisticRegression(C=38173.48159133787,penalty='l2')\n",
    "tfw2v_lr_model_rand.fit(tfidfw2v_train_data,balanced_train_label[:7000])\n",
    "tfw2v_lr_model_rand_label = tfw2v_lr_model_rand.predict(tfidfw2v_test_data)"
   ]
  },
  {
   "cell_type": "code",
   "execution_count": 124,
   "metadata": {},
   "outputs": [
    {
     "name": "stdout",
     "output_type": "stream",
     "text": [
      "The accuracy for test data with TFIDF Weighted Word2Vec model is ----> 83.03333333333333\n"
     ]
    }
   ],
   "source": [
    "#Calculating the accuracy for the test data\n",
    "from sklearn.metrics import accuracy_score\n",
    "score_tfw2v_rand_test = accuracy_score(balanced_test_label[:3000],tfw2v_lr_model_rand_label)*float(100)\n",
    "print(\"The accuracy for test data with TFIDF Weighted Word2Vec model is ----> \"+str(score_tfw2v_rand_test))"
   ]
  },
  {
   "cell_type": "code",
   "execution_count": 125,
   "metadata": {},
   "outputs": [
    {
     "name": "stdout",
     "output_type": "stream",
     "text": [
      "The accuracy for train data with TFIDF Weighted Word2Vec model is ----> 89.88571428571429\n"
     ]
    }
   ],
   "source": [
    "#Calculating the accuracy for the train data\n",
    "tfw2v_lr_model_rand_label_train = tfw2v_lr_model_rand.predict(tfidfw2v_train_data)\n",
    "score_tfw2v_rand_train = accuracy_score(balanced_train_label[:7000],tfw2v_lr_model_label_train)*float(100)\n",
    "print(\"The accuracy for train data with TFIDF Weighted Word2Vec model is ----> \"+str(score_tfw2v_rand_train))"
   ]
  },
  {
   "cell_type": "code",
   "execution_count": 127,
   "metadata": {},
   "outputs": [
    {
     "data": {
      "image/png": "[encoded data removed]",
      "text/plain": [
       "<Figure size 432x288 with 2 Axes>"
      ]
     },
     "metadata": {},
     "output_type": "display_data"
    }
   ],
   "source": [
    "#Building the Confustion matrix\n",
    "from sklearn.metrics import confusion_matrix\n",
    "import seaborn as sns\n",
    "cnf_tfidf_rand = confusion_matrix(balanced_test_label[:3000],tfw2v_lr_model_rand_label)\n",
    "sns.heatmap(cnf_tfidf_rand,cmap=plt.cm.gray,annot=True,fmt='.1f')\n",
    "plt.xlabel('Predicted Values')\n",
    "plt.ylabel('Actual Values')\n",
    "plt.title('Confustion matrix')\n",
    "plt.show()"
   ]
  },
  {
   "cell_type": "code",
   "execution_count": 128,
   "metadata": {},
   "outputs": [
    {
     "name": "stdout",
     "output_type": "stream",
     "text": [
      "The TNR for TFIDF Word2vec is 26\n",
      "The FPR for TFIDF Word2vec is 376\n",
      "The FNR for TFIDF Word2vec is 133\n",
      "The TPR for TFIDF Word2vec is 2465\n"
     ]
    }
   ],
   "source": [
    "#Finding the tnr,fpr,fnr,tpr\n",
    "tnr_tfw2v_rand = cnf_tfidf_rand[0,0] \n",
    "fpr_tfw2v_rand = cnf_tfidf_rand[0,1] \n",
    "fnr_tfw2v_rand = cnf_tfidf_rand[1,0] \n",
    "tpr_tfw2v_rand = cnf_tfidf_rand[1,1] \n",
    "print('The TNR for TFIDF Word2vec is '+str(tnr_tfw2v_rand))\n",
    "print('The FPR for TFIDF Word2vec is '+str(fpr_tfw2v_rand))\n",
    "print('The FNR for TFIDF Word2vec is '+str(fnr_tfw2v_rand))\n",
    "print('The TPR for TFIDF Word2vec is '+str(tpr_tfw2v_rand))"
   ]
  },
  {
   "cell_type": "code",
   "execution_count": 129,
   "metadata": {},
   "outputs": [
    {
     "name": "stdout",
     "output_type": "stream",
     "text": [
      "The precision of TFIDF Word2Vec is 0.8676522351284759\n",
      "The recall of TFIDF Word2Vec is 0.9488067744418783\n"
     ]
    }
   ],
   "source": [
    "#Finding Precision and Recall\n",
    "precision_tfw2v_rand = tpr_tfw2v_rand/(tpr_tfw2v_rand+fpr_tfw2v_rand)\n",
    "recall_tfw2v_rand = tpr_tfw2v_rand/(tpr_tfw2v_rand+fnr_tfw2v_rand)\n",
    "print(\"The precision of TFIDF Word2Vec is \"+str(precision_tfw2v_rand))\n",
    "print(\"The recall of TFIDF Word2Vec is \"+str(recall_tfw2v_rand))"
   ]
  },
  {
   "cell_type": "code",
   "execution_count": 130,
   "metadata": {},
   "outputs": [
    {
     "name": "stdout",
     "output_type": "stream",
     "text": [
      "The F1 score of TFIDF Word2Vec is 0.906416620702335\n"
     ]
    }
   ],
   "source": [
    "#Finding the F1 Score\n",
    "f1_tfw2v_rand = (2*precision_tfw2v_rand*recall_tfw2v_rand)/(precision_tfw2v_rand+recall_tfw2v_rand)\n",
    "print(\"The F1 score of TFIDF Word2Vec is \"+str(f1_tfw2v_rand))"
   ]
  },
  {
   "cell_type": "markdown",
   "metadata": {},
   "source": [
    "# Conclusion\n",
    "### Both Gridsearch and randomsearch provided similar results"
   ]
  },
  {
   "cell_type": "markdown",
   "metadata": {},
   "source": [
    "# Summary"
   ]
  },
  {
   "cell_type": "code",
   "execution_count": 200,
   "metadata": {},
   "outputs": [
    {
     "data": {
      "text/html": [
       "<div>\n",
       "<style scoped>\n",
       "    .dataframe tbody tr th:only-of-type {\n",
       "        vertical-align: middle;\n",
       "    }\n",
       "\n",
       "    .dataframe tbody tr th {\n",
       "        vertical-align: top;\n",
       "    }\n",
       "\n",
       "    .dataframe thead th {\n",
       "        text-align: right;\n",
       "    }\n",
       "</style>\n",
       "<table border=\"1\" class=\"dataframe\">\n",
       "  <thead>\n",
       "    <tr style=\"text-align: right;\">\n",
       "      <th></th>\n",
       "      <th>Model</th>\n",
       "      <th>GridSearch-C</th>\n",
       "      <th>RandomSearch-C</th>\n",
       "      <th>Least Test Error</th>\n",
       "      <th>Best F1</th>\n",
       "    </tr>\n",
       "  </thead>\n",
       "  <tbody>\n",
       "    <tr>\n",
       "      <th>0</th>\n",
       "      <td>BOW</td>\n",
       "      <td>1</td>\n",
       "      <td>0.42887209086040123</td>\n",
       "      <td>8.156666666666666</td>\n",
       "      <td>0.9537542758868331</td>\n",
       "    </tr>\n",
       "    <tr>\n",
       "      <th>1</th>\n",
       "      <td>TFIDF</td>\n",
       "      <td>10</td>\n",
       "      <td>44.13977472737556</td>\n",
       "      <td>7.809999999999988</td>\n",
       "      <td>0.955774929689122</td>\n",
       "    </tr>\n",
       "    <tr>\n",
       "      <th>2</th>\n",
       "      <td>Average Word2Vec</td>\n",
       "      <td>100</td>\n",
       "      <td>116.14474242603184</td>\n",
       "      <td>11.599999999999994</td>\n",
       "      <td>0.9356097741440225</td>\n",
       "    </tr>\n",
       "    <tr>\n",
       "      <th>3</th>\n",
       "      <td>TFIDF Word2Vec</td>\n",
       "      <td>1000</td>\n",
       "      <td>46440.36927893156</td>\n",
       "      <td>16.96666666666667</td>\n",
       "      <td>0.906416620702335</td>\n",
       "    </tr>\n",
       "  </tbody>\n",
       "</table>\n",
       "</div>"
      ],
      "text/plain": [
       "              Model GridSearch-C       RandomSearch-C    Least Test Error  \\\n",
       "0               BOW            1  0.42887209086040123   8.156666666666666   \n",
       "1             TFIDF           10    44.13977472737556   7.809999999999988   \n",
       "2  Average Word2Vec          100   116.14474242603184  11.599999999999994   \n",
       "3    TFIDF Word2Vec         1000    46440.36927893156   16.96666666666667   \n",
       "\n",
       "              Best F1  \n",
       "0  0.9537542758868331  \n",
       "1   0.955774929689122  \n",
       "2  0.9356097741440225  \n",
       "3   0.906416620702335  "
      ]
     },
     "execution_count": 200,
     "metadata": {},
     "output_type": "execute_result"
    }
   ],
   "source": [
    "summary = {'Model':['BOW','TFIDF','Average Word2Vec','TFIDF Word2Vec'],'GridSearch-C':['1','10','100','1000'],'RandomSearch-C':['0.42887209086040123','44.13977472737556','116.14474242603184','46440.36927893156'],'Least Test Error':[str(100-score_bow_test_rand),str(100-score_tfidf_rand_test),str(100-score_avgw2v_test),str(100-score_tfw2v_test)],'Best F1':['0.9537542758868331','0.955774929689122','0.9356097741440225','0.906416620702335']}\n",
    "summary_df = pd.DataFrame(summary)\n",
    "summary_df"
   ]
  },
  {
   "cell_type": "markdown",
   "metadata": {},
   "source": [
    "# TFIDF performed best among all the models"
   ]
  }
 ],
 "metadata": {
  "kernelspec": {
   "display_name": "Python 3",
   "language": "python",
   "name": "python3"
  },
  "language_info": {
   "codemirror_mode": {
    "name": "ipython",
    "version": 3
   },
   "file_extension": ".py",
   "mimetype": "text/x-python",
   "name": "python",
   "nbconvert_exporter": "python",
   "pygments_lexer": "ipython3",
   "version": "3.6.5"
  }
 },
 "nbformat": 4,
 "nbformat_minor": 2
}
